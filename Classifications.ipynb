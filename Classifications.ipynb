{
 "cells": [
  {
   "cell_type": "code",
   "execution_count": 1,
   "id": "45c05134",
   "metadata": {},
   "outputs": [],
   "source": [
    "# Importing necessary libraries\n",
    "import numpy as np\n",
    "import pandas as pd\n",
    "import matplotlib.pyplot as plt\n",
    "%matplotlib inline\n",
    "import seaborn as sns\n",
    "\n",
    "from sklearn.preprocessing import LabelEncoder, StandardScaler\n",
    "from sklearn.model_selection import train_test_split\n",
    "from sklearn.ensemble import RandomForestClassifier\n",
    "from sklearn.naive_bayes import GaussianNB \n",
    "from sklearn.neighbors import KNeighborsClassifier \n",
    "from sklearn.tree import DecisionTreeClassifier\n",
    "from sklearn.metrics import confusion_matrix, classification_report\n",
    "\n",
    "from xgboost import XGBClassifier\n",
    "\n",
    "import warnings\n",
    "warnings.filterwarnings('ignore')"
   ]
  },
  {
   "cell_type": "code",
   "execution_count": 2,
   "id": "8c188626",
   "metadata": {},
   "outputs": [],
   "source": [
    "# Training Dataset\n",
    "data = pd.read_csv(\"./dataset/UNSW_2018_IoT_Botnet_Final_10_best_Training.csv\")"
   ]
  },
  {
   "cell_type": "code",
   "execution_count": 3,
   "id": "fd184eb5",
   "metadata": {},
   "outputs": [],
   "source": [
    "# Extracting 10 best features\n",
    "ten_best_features = data[['seq','stddev','N_IN_Conn_P_SrcIP', 'min', 'state_number', 'mean', 'N_IN_Conn_P_DstIP',\n",
    "       'drate', 'srate', 'max']]\n",
    "target_features = data[['attack','category','subcategory']]"
   ]
  },
  {
   "cell_type": "code",
   "execution_count": 4,
   "id": "addf18c5",
   "metadata": {},
   "outputs": [
    {
     "data": {
      "text/html": [
       "<div>\n",
       "<style scoped>\n",
       "    .dataframe tbody tr th:only-of-type {\n",
       "        vertical-align: middle;\n",
       "    }\n",
       "\n",
       "    .dataframe tbody tr th {\n",
       "        vertical-align: top;\n",
       "    }\n",
       "\n",
       "    .dataframe thead th {\n",
       "        text-align: right;\n",
       "    }\n",
       "</style>\n",
       "<table border=\"1\" class=\"dataframe\">\n",
       "  <thead>\n",
       "    <tr style=\"text-align: right;\">\n",
       "      <th></th>\n",
       "      <th>attack</th>\n",
       "      <th>category</th>\n",
       "      <th>subcategory</th>\n",
       "    </tr>\n",
       "  </thead>\n",
       "  <tbody>\n",
       "    <tr>\n",
       "      <th>0</th>\n",
       "      <td>1</td>\n",
       "      <td>0</td>\n",
       "      <td>7</td>\n",
       "    </tr>\n",
       "    <tr>\n",
       "      <th>1</th>\n",
       "      <td>1</td>\n",
       "      <td>0</td>\n",
       "      <td>6</td>\n",
       "    </tr>\n",
       "    <tr>\n",
       "      <th>2</th>\n",
       "      <td>1</td>\n",
       "      <td>0</td>\n",
       "      <td>6</td>\n",
       "    </tr>\n",
       "    <tr>\n",
       "      <th>3</th>\n",
       "      <td>1</td>\n",
       "      <td>1</td>\n",
       "      <td>7</td>\n",
       "    </tr>\n",
       "    <tr>\n",
       "      <th>4</th>\n",
       "      <td>1</td>\n",
       "      <td>0</td>\n",
       "      <td>7</td>\n",
       "    </tr>\n",
       "  </tbody>\n",
       "</table>\n",
       "</div>"
      ],
      "text/plain": [
       "   attack  category  subcategory\n",
       "0       1         0            7\n",
       "1       1         0            6\n",
       "2       1         0            6\n",
       "3       1         1            7\n",
       "4       1         0            7"
      ]
     },
     "execution_count": 4,
     "metadata": {},
     "output_type": "execute_result"
    }
   ],
   "source": [
    "# Data Preprocessing\n",
    "# Label Encoding the target columns\n",
    "le = LabelEncoder()\n",
    "target_features['category'] = le.fit_transform(target_features['category'])\n",
    "target_features['subcategory'] = le.fit_transform(target_features['subcategory'])"
   ]
  },
  {
   "cell_type": "code",
   "execution_count": 5,
   "id": "d41a0229",
   "metadata": {},
   "outputs": [],
   "source": [
    "# Train-test Split\n",
    "X_train, X_test, y_train, y_test = train_test_split(ten_best_features, target_features)"
   ]
  },
  {
   "cell_type": "code",
   "execution_count": 6,
   "id": "d794fb0d",
   "metadata": {},
   "outputs": [],
   "source": [
    "# Scaling the data\n",
    "sc = StandardScaler()\n",
    "X_train = sc.fit_transform(X_train)\n",
    "X_test = sc.transform(X_test)"
   ]
  },
  {
   "cell_type": "code",
   "execution_count": 7,
   "id": "6c99bdda",
   "metadata": {},
   "outputs": [],
   "source": [
    "# Defining the ML Model Classes\n",
    "class RandomForest:\n",
    "    def __init__(self, max_depth):\n",
    "        self.rfc_attack = RandomForestClassifier(max_depth=max_depth)\n",
    "        self.rfc_category = RandomForestClassifier(max_depth=max_depth)\n",
    "        self.rfc_subcategory = RandomForestClassifier(max_depth=max_depth)\n",
    "    \n",
    "    def fit(self, X_train, y_train):\n",
    "        self.rfc_attack.fit(X_train,y_train['attack'])\n",
    "        \n",
    "        features_category = np.concatenate((X_train,np.array(y_train['attack']).reshape(-1,1)), axis=1)\n",
    "        self.rfc_category.fit(features_category, y_train['category'])\n",
    "        \n",
    "        features_subcategory = np.concatenate((features_category, np.array(y_train['category']).reshape(-1,1)), axis=1)\n",
    "        self.rfc_subcategory.fit(features_subcategory, y_train['subcategory'])\n",
    "        \n",
    "    def predict(self, X_test):\n",
    "        predict_attack = self.rfc_attack.predict(X_test)\n",
    "        \n",
    "        test_category = np.concatenate((X_test,predict_attack.reshape(-1,1)), axis=1)\n",
    "        predict_category = self.rfc_category.predict(test_category)\n",
    "        \n",
    "        test_subcategory = np.concatenate((test_category, predict_category.reshape(-1,1)), axis=1)\n",
    "        predict_subcategory = self.rfc_subcategory.predict(test_subcategory)\n",
    "        \n",
    "        return pd.DataFrame({'attack': predict_attack, 'category': predict_category, 'subcategory': predict_subcategory})"
   ]
  },
  {
   "cell_type": "code",
   "execution_count": 8,
   "id": "66acfa2a",
   "metadata": {},
   "outputs": [],
   "source": [
    "class NaiveBayes:\n",
    "    def __init__(self):\n",
    "        self.nb_attack = GaussianNB()\n",
    "        self.nb_category = GaussianNB()\n",
    "        self.nb_subcategory = GaussianNB()\n",
    "    \n",
    "    def fit(self, X_train, y_train):\n",
    "        self.nb_attack.fit(X_train, y_train['attack'])\n",
    "        \n",
    "        features_category = np.concatenate((X_train, np.array(y_train['attack']).reshape(-1,1)), axis=1)\n",
    "        self.nb_category.fit(features_category, y_train['category'])\n",
    "        \n",
    "        features_subcategory = np.concatenate((features_category, np.array(y_train['category']).reshape(-1,1)), axis=1)\n",
    "        self.nb_subcategory.fit(features_subcategory, y_train['subcategory'])\n",
    "        \n",
    "    def predict(self, X_test):\n",
    "        predict_attack = self.nb_attack.predict(X_test)\n",
    "        \n",
    "        test_category = np.concatenate((X_test, predict_attack.reshape(-1,1)), axis=1)\n",
    "        predict_category = self.nb_category.predict(test_category)\n",
    "        \n",
    "        test_subcategory = np.concatenate((test_category, predict_category.reshape(-1,1)), axis=1)\n",
    "        predict_subcategory = self.nb_subcategory.predict(test_subcategory)\n",
    "        \n",
    "        return pd.DataFrame({'attack': predict_attack, 'category': predict_category, 'subcategory': predict_subcategory})"
   ]
  },
  {
   "cell_type": "code",
   "execution_count": 10,
   "id": "bda5ea09",
   "metadata": {},
   "outputs": [],
   "source": [
    "class DecisionTree:\n",
    "    def __init__(self, criterion, max_depth=5):\n",
    "        self.dtree_attack = DecisionTreeClassifier(criterion=criterion, max_depth=max_depth)\n",
    "        self.dtree_category = DecisionTreeClassifier(criterion=criterion, max_depth=max_depth)\n",
    "        self.dtree_subcategory = DecisionTreeClassifier(criterion=criterion, max_depth=max_depth)\n",
    "    \n",
    "    def fit(self, X_train, y_train):\n",
    "        self.dtree_attack.fit(X_train, y_train['attack'])\n",
    "        \n",
    "        features_category = np.concatenate((X_train, np.array(y_train['attack']).reshape(-1,1)),axis=1)\n",
    "        self.dtree_category.fit(features_category, y_train['category'])\n",
    "        \n",
    "        features_subcategory = np.concatenate((features_category, np.array(y_train['category']).reshape(-1,1)), axis=1)\n",
    "        self.dtree_subcategory.fit(features_subcategory, y_train['subcategory'])\n",
    "        \n",
    "    def predict(self, X_test):\n",
    "        predict_attack = self.dtree_attack.predict(X_test)\n",
    "        \n",
    "        test_category = np.concatenate((X_test, predict_attack.reshape(-1,1)), axis=1)\n",
    "        predict_category = self.dtree_category.predict(test_category)\n",
    "        \n",
    "        test_subcategory = np.concatenate((test_category, predict_category.reshape(-1,1)), axis=1)\n",
    "        predict_subcategory = self.dtree_subcategory.predict(test_subcategory)\n",
    "        \n",
    "        return pd.DataFrame({'attack': predict_attack, 'category': predict_category, 'subcategory': predict_subcategory})"
   ]
  },
  {
   "cell_type": "code",
   "execution_count": 9,
   "id": "2bdc2d63",
   "metadata": {},
   "outputs": [],
   "source": [
    "class GradientBoost:\n",
    "    def __init__(self):\n",
    "        self.xgb_attack = XGBClassifier()\n",
    "        self.xgb_category = XGBClassifier()\n",
    "        self.xgb_subcategory = XGBClassifier()\n",
    "    \n",
    "    def fit(self, X_train, y_train):\n",
    "        self.xgb_attack.fit(X_train, y_train['attack'])\n",
    "        \n",
    "        features_category = np.concatenate((X_train, np.array(y_train['attack']).reshape(-1,1)), axis=1)\n",
    "        self.xgb_category.fit(features_category, y_train['category'])\n",
    "        \n",
    "        features_subcategory = np.concatenate((features_category, np.array(y_train['category']).reshape(-1,1)), axis=1)\n",
    "        self.xgb_subcategory.fit(features_subcategory, y_train['subcategory'])\n",
    "        \n",
    "    def predict(self, X_test):\n",
    "        predict_attack = self.xgb_attack.predict(X_test)\n",
    "        \n",
    "        test_category = np.concatenate((X_test, predict_attack.reshape(-1,1)), axis=1)\n",
    "        predict_category = self.xgb_category.predict(test_category)\n",
    "        \n",
    "        test_subcategory = np.concatenate((test_category, predict_category.reshape(-1,1)), axis=1)\n",
    "        predict_subcategory = self.xgb_subcategory.predict(test_subcategory)\n",
    "        \n",
    "        return pd.DataFrame({'attack': predict_attack, 'category': predict_category, 'subcategory': predict_subcategory})"
   ]
  },
  {
   "cell_type": "code",
   "execution_count": 11,
   "id": "78182427",
   "metadata": {},
   "outputs": [],
   "source": [
    "# Validation of ML Models on Training Dataset\n",
    "# Random Forest\n",
    "\n",
    "rf = RandomForest(max_depth=3)\n",
    "rf.fit(X_train, y_train)\n",
    "\n",
    "predictions_rfc = rf.predict(X_test)"
   ]
  },
  {
   "cell_type": "code",
   "execution_count": 12,
   "id": "44ebf643",
   "metadata": {},
   "outputs": [
    {
     "name": "stdout",
     "output_type": "stream",
     "text": [
      "[[     8     83]\n",
      " [     0 733614]]\n",
      "              precision    recall  f1-score   support\n",
      "\n",
      "           0       1.00      0.09      0.16        91\n",
      "           1       1.00      1.00      1.00    733614\n",
      "\n",
      "    accuracy                           1.00    733705\n",
      "   macro avg       1.00      0.54      0.58    733705\n",
      "weighted avg       1.00      1.00      1.00    733705\n",
      "\n"
     ]
    }
   ],
   "source": [
    "print(confusion_matrix(y_test['attack'], predictions_rfc['attack']))\n",
    "print(classification_report(y_test['attack'], predictions_rfc['attack']))"
   ]
  },
  {
   "cell_type": "code",
   "execution_count": 13,
   "id": "9a82a7e0",
   "metadata": {},
   "outputs": [
    {
     "name": "stdout",
     "output_type": "stream",
     "text": [
      "[[368560  16566      0      0      0]\n",
      " [ 32668 297396      0      2      0]\n",
      " [     0     48      0     43      0]\n",
      " [ 11363   1051      0   5985      0]\n",
      " [     0      8      0     15      0]]\n",
      "              precision    recall  f1-score   support\n",
      "\n",
      "           0       0.89      0.96      0.92    385126\n",
      "           1       0.94      0.90      0.92    330066\n",
      "           2       0.00      0.00      0.00        91\n",
      "           3       0.99      0.33      0.49     18399\n",
      "           4       0.00      0.00      0.00        23\n",
      "\n",
      "    accuracy                           0.92    733705\n",
      "   macro avg       0.57      0.44      0.47    733705\n",
      "weighted avg       0.92      0.92      0.91    733705\n",
      "\n"
     ]
    }
   ],
   "source": [
    "print(confusion_matrix(y_test['category'], predictions_rfc['category']))\n",
    "print(classification_report(y_test['category'], predictions_rfc['category']))"
   ]
  },
  {
   "cell_type": "code",
   "execution_count": 14,
   "id": "4738a394",
   "metadata": {},
   "outputs": [
    {
     "name": "stdout",
     "output_type": "stream",
     "text": [
      "[[     0      0      0      0      0      0      0      2]\n",
      " [     0      0      0      0      0      2    496      0]\n",
      " [     0      0      0      0      0     15      0      6]\n",
      " [     0      0      0      0      0     43     46      2]\n",
      " [     0      0      0      0      0    142   3468      5]\n",
      " [     0      0      0      0      0   5843   8941      0]\n",
      " [     0      0      0      0      0      0 318611    231]\n",
      " [     0      0      0      0      0      0     19 395833]]\n",
      "              precision    recall  f1-score   support\n",
      "\n",
      "           0       0.00      0.00      0.00         2\n",
      "           1       0.00      0.00      0.00       498\n",
      "           2       0.00      0.00      0.00        21\n",
      "           3       0.00      0.00      0.00        91\n",
      "           4       0.00      0.00      0.00      3615\n",
      "           5       0.97      0.40      0.56     14784\n",
      "           6       0.96      1.00      0.98    318842\n",
      "           7       1.00      1.00      1.00    395852\n",
      "\n",
      "    accuracy                           0.98    733705\n",
      "   macro avg       0.37      0.30      0.32    733705\n",
      "weighted avg       0.98      0.98      0.98    733705\n",
      "\n"
     ]
    }
   ],
   "source": [
    "print(confusion_matrix(y_test['subcategory'], predictions_rfc['subcategory']))\n",
    "print(classification_report(y_test['subcategory'], predictions_rfc['subcategory'])) "
   ]
  },
  {
   "cell_type": "code",
   "execution_count": 15,
   "id": "bd327b55",
   "metadata": {},
   "outputs": [
    {
     "data": {
      "text/plain": [
       "0.9998868755153638"
      ]
     },
     "execution_count": 15,
     "metadata": {},
     "output_type": "execute_result"
    }
   ],
   "source": [
    "rf.rfc_attack.score(X_test, y_test['attack'])"
   ]
  },
  {
   "cell_type": "code",
   "execution_count": 16,
   "id": "976c640f",
   "metadata": {},
   "outputs": [
    {
     "data": {
      "text/plain": [
       "0.915819028083494"
      ]
     },
     "execution_count": 16,
     "metadata": {},
     "output_type": "execute_result"
    }
   ],
   "source": [
    "rf.rfc_category.score(np.concatenate((X_test, np.array(predictions_rfc['attack']).reshape(-1,1)), axis=1), y_test['category'])"
   ]
  },
  {
   "cell_type": "code",
   "execution_count": 17,
   "id": "59226352",
   "metadata": {},
   "outputs": [
    {
     "data": {
      "text/plain": [
       "0.981711995965681"
      ]
     },
     "execution_count": 17,
     "metadata": {},
     "output_type": "execute_result"
    }
   ],
   "source": [
    "rf.rfc_subcategory.score(np.concatenate((X_test,np.array(predictions_rfc['attack']).reshape(-1,1), \n",
    "                                         np.array(predictions_rfc['category']).reshape(-1,1)), axis=1), y_test['subcategory'])"
   ]
  },
  {
   "cell_type": "code",
   "execution_count": 18,
   "id": "a5905285",
   "metadata": {},
   "outputs": [],
   "source": [
    "# Naive Bayes\n",
    "nb = NaiveBayes()\n",
    "nb.fit(X_train, y_train)\n",
    "\n",
    "predictions_nb = nb.predict(X_test)"
   ]
  },
  {
   "cell_type": "code",
   "execution_count": 19,
   "id": "595072aa",
   "metadata": {},
   "outputs": [
    {
     "name": "stdout",
     "output_type": "stream",
     "text": [
      "[[    80     11]\n",
      " [  2897 730717]]\n",
      "              precision    recall  f1-score   support\n",
      "\n",
      "           0       0.03      0.88      0.05        91\n",
      "           1       1.00      1.00      1.00    733614\n",
      "\n",
      "    accuracy                           1.00    733705\n",
      "   macro avg       0.51      0.94      0.53    733705\n",
      "weighted avg       1.00      1.00      1.00    733705\n",
      "\n"
     ]
    }
   ],
   "source": [
    "print(confusion_matrix(y_test['attack'],predictions_nb['attack']))\n",
    "print(classification_report(y_test['attack'],predictions_nb['attack']))"
   ]
  },
  {
   "cell_type": "code",
   "execution_count": 20,
   "id": "2d59d54b",
   "metadata": {},
   "outputs": [
    {
     "name": "stdout",
     "output_type": "stream",
     "text": [
      "[[368532  16428     36    130      0]\n",
      " [183218 145789    758    301      0]\n",
      " [     0      8     80      3      0]\n",
      " [ 10850   1751   2087   3711      0]\n",
      " [     0      0     16      0      7]]\n",
      "              precision    recall  f1-score   support\n",
      "\n",
      "           0       0.66      0.96      0.78    385126\n",
      "           1       0.89      0.44      0.59    330066\n",
      "           2       0.03      0.88      0.05        91\n",
      "           3       0.90      0.20      0.33     18399\n",
      "           4       1.00      0.30      0.47        23\n",
      "\n",
      "    accuracy                           0.71    733705\n",
      "   macro avg       0.69      0.56      0.44    733705\n",
      "weighted avg       0.77      0.71      0.68    733705\n",
      "\n"
     ]
    }
   ],
   "source": [
    "print(confusion_matrix(y_test['category'],predictions_nb['category']))\n",
    "print(classification_report(y_test['category'],predictions_nb['category']))"
   ]
  },
  {
   "cell_type": "code",
   "execution_count": 21,
   "id": "6941bc25",
   "metadata": {},
   "outputs": [
    {
     "name": "stdout",
     "output_type": "stream",
     "text": [
      "[[     1      0      0      1      0      0      0      0]\n",
      " [     0    329      0      8      2    142     17      0]\n",
      " [     4      0      2     15      0      0      0      0]\n",
      " [     0      0      0     80      3      0      8      0]\n",
      " [     0    216      0     97      1    158   3143      0]\n",
      " [     0    614      0   1990    421   3131   8628      0]\n",
      " [     0    900      0    775     11    274 316882      0]\n",
      " [     0      0      0     11      2      0     24 395815]]\n",
      "              precision    recall  f1-score   support\n",
      "\n",
      "           0       0.20      0.50      0.29         2\n",
      "           1       0.16      0.66      0.26       498\n",
      "           2       1.00      0.10      0.17        21\n",
      "           3       0.03      0.88      0.05        91\n",
      "           4       0.00      0.00      0.00      3615\n",
      "           5       0.85      0.21      0.34     14784\n",
      "           6       0.96      0.99      0.98    318842\n",
      "           7       1.00      1.00      1.00    395852\n",
      "\n",
      "    accuracy                           0.98    733705\n",
      "   macro avg       0.52      0.54      0.39    733705\n",
      "weighted avg       0.98      0.98      0.97    733705\n",
      "\n"
     ]
    }
   ],
   "source": [
    "print(confusion_matrix(y_test['subcategory'],predictions_nb['subcategory']))\n",
    "print(classification_report(y_test['subcategory'],predictions_nb['subcategory']))"
   ]
  },
  {
   "cell_type": "code",
   "execution_count": 22,
   "id": "8b7dd1f4",
   "metadata": {},
   "outputs": [],
   "source": [
    "# Decision Tree (Information Gain)\n",
    "dtree_ig = DecisionTree('entropy')\n",
    "dtree_ig.fit(X_train,y_train)\n",
    "predictions_dtree_ig = dtree_ig.predict(X_test)"
   ]
  },
  {
   "cell_type": "code",
   "execution_count": 23,
   "id": "560fd4c8",
   "metadata": {},
   "outputs": [
    {
     "name": "stdout",
     "output_type": "stream",
     "text": [
      "[[    33     58]\n",
      " [     0 733614]]\n",
      "              precision    recall  f1-score   support\n",
      "\n",
      "           0       1.00      0.36      0.53        91\n",
      "           1       1.00      1.00      1.00    733614\n",
      "\n",
      "    accuracy                           1.00    733705\n",
      "   macro avg       1.00      0.68      0.77    733705\n",
      "weighted avg       1.00      1.00      1.00    733705\n",
      "\n"
     ]
    }
   ],
   "source": [
    "print(confusion_matrix(y_test['attack'],predictions_dtree_ig['attack']))\n",
    "print(classification_report(y_test['attack'],predictions_dtree_ig['attack']))"
   ]
  },
  {
   "cell_type": "code",
   "execution_count": 24,
   "id": "34986f52",
   "metadata": {},
   "outputs": [
    {
     "name": "stdout",
     "output_type": "stream",
     "text": [
      "[[338811  45756      0    559      0]\n",
      " [ 11546 318477      0     43      0]\n",
      " [     9     16     26     40      0]\n",
      " [   365   7517      0  10517      0]\n",
      " [     0      0      0     23      0]]\n",
      "              precision    recall  f1-score   support\n",
      "\n",
      "           0       0.97      0.88      0.92    385126\n",
      "           1       0.86      0.96      0.91    330066\n",
      "           2       1.00      0.29      0.44        91\n",
      "           3       0.94      0.57      0.71     18399\n",
      "           4       0.00      0.00      0.00        23\n",
      "\n",
      "    accuracy                           0.91    733705\n",
      "   macro avg       0.75      0.54      0.60    733705\n",
      "weighted avg       0.92      0.91      0.91    733705\n",
      "\n"
     ]
    }
   ],
   "source": [
    "print(confusion_matrix(y_test['category'],predictions_dtree_ig['category']))\n",
    "print(classification_report(y_test['category'],predictions_dtree_ig['category']))"
   ]
  },
  {
   "cell_type": "code",
   "execution_count": 25,
   "id": "b2c8fbf8",
   "metadata": {},
   "outputs": [
    {
     "name": "stdout",
     "output_type": "stream",
     "text": [
      "[[     0      0      2      0      0      0      0      0]\n",
      " [     0    369      0      0      0     93     35      1]\n",
      " [     0      0      6      0      0     15      0      0]\n",
      " [     0      0      0     28      6     32     10     15]\n",
      " [     0      0      0      2    892    594   2104     23]\n",
      " [     0     20      0      0    263   8768   5724      9]\n",
      " [     0     13      0      0      0    491 318337      1]\n",
      " [     0      0      0      2      0      0      6 395844]]\n",
      "              precision    recall  f1-score   support\n",
      "\n",
      "           0       0.00      0.00      0.00         2\n",
      "           1       0.92      0.74      0.82       498\n",
      "           2       0.75      0.29      0.41        21\n",
      "           3       0.88      0.31      0.46        91\n",
      "           4       0.77      0.25      0.37      3615\n",
      "           5       0.88      0.59      0.71     14784\n",
      "           6       0.98      1.00      0.99    318842\n",
      "           7       1.00      1.00      1.00    395852\n",
      "\n",
      "    accuracy                           0.99    733705\n",
      "   macro avg       0.77      0.52      0.59    733705\n",
      "weighted avg       0.99      0.99      0.99    733705\n",
      "\n"
     ]
    }
   ],
   "source": [
    "print(confusion_matrix(y_test['subcategory'], predictions_dtree_ig['subcategory']))\n",
    "print(classification_report(y_test['subcategory'], predictions_dtree_ig['subcategory']))"
   ]
  },
  {
   "cell_type": "code",
   "execution_count": 26,
   "id": "b8a0e9f4",
   "metadata": {},
   "outputs": [
    {
     "data": {
      "text/plain": [
       "0.9999209491553145"
      ]
     },
     "execution_count": 26,
     "metadata": {},
     "output_type": "execute_result"
    }
   ],
   "source": [
    "dtree_ig.dtree_attack.score(X_test, y_test['attack'])"
   ]
  },
  {
   "cell_type": "code",
   "execution_count": 27,
   "id": "f65cfd92",
   "metadata": {},
   "outputs": [
    {
     "data": {
      "text/plain": [
       "0.9102173216756053"
      ]
     },
     "execution_count": 27,
     "metadata": {},
     "output_type": "execute_result"
    }
   ],
   "source": [
    "dtree_ig.dtree_category.score(np.concatenate((X_test, np.array(predictions_dtree_ig['attack'])\n",
    "                                              .reshape(-1,1)), axis=1), y_test['category'])"
   ]
  },
  {
   "cell_type": "code",
   "execution_count": 28,
   "id": "0040a078",
   "metadata": {},
   "outputs": [
    {
     "data": {
      "text/plain": [
       "0.9871051716970717"
      ]
     },
     "execution_count": 28,
     "metadata": {},
     "output_type": "execute_result"
    }
   ],
   "source": [
    "dtree_ig.dtree_subcategory.score(np.concatenate((X_test, np.array(predictions_dtree_ig['attack'])\n",
    "                                                 .reshape(-1,1), np.array(predictions_dtree_ig['category'])\n",
    "                                                 .reshape(-1,1)), axis=1), y_test['subcategory'])"
   ]
  },
  {
   "cell_type": "code",
   "execution_count": 29,
   "id": "361148d7",
   "metadata": {},
   "outputs": [],
   "source": [
    "# Gradient Boost\n",
    "xgb = GradientBoost()\n",
    "xgb.fit(X_train, y_train)\n",
    "predictions_xgb = xgb.predict(X_test)"
   ]
  },
  {
   "cell_type": "code",
   "execution_count": 30,
   "id": "7d29f25d",
   "metadata": {},
   "outputs": [
    {
     "name": "stdout",
     "output_type": "stream",
     "text": [
      "[[    91      0]\n",
      " [     1 733613]]\n",
      "              precision    recall  f1-score   support\n",
      "\n",
      "           0       0.99      1.00      0.99        91\n",
      "           1       1.00      1.00      1.00    733614\n",
      "\n",
      "    accuracy                           1.00    733705\n",
      "   macro avg       0.99      1.00      1.00    733705\n",
      "weighted avg       1.00      1.00      1.00    733705\n",
      "\n"
     ]
    }
   ],
   "source": [
    "print(confusion_matrix(y_test['attack'], predictions_xgb['attack']))\n",
    "print(classification_report(y_test['attack'], predictions_xgb['attack']))"
   ]
  },
  {
   "cell_type": "code",
   "execution_count": 31,
   "id": "e398f246",
   "metadata": {},
   "outputs": [
    {
     "name": "stdout",
     "output_type": "stream",
     "text": [
      "[[385115     11      0      0      0]\n",
      " [    12 330053      0      1      0]\n",
      " [     0      0     91      0      0]\n",
      " [     0      0      1  18398      0]\n",
      " [     0      1      0      1     21]]\n",
      "              precision    recall  f1-score   support\n",
      "\n",
      "           0       1.00      1.00      1.00    385126\n",
      "           1       1.00      1.00      1.00    330066\n",
      "           2       0.99      1.00      0.99        91\n",
      "           3       1.00      1.00      1.00     18399\n",
      "           4       1.00      0.91      0.95        23\n",
      "\n",
      "    accuracy                           1.00    733705\n",
      "   macro avg       1.00      0.98      0.99    733705\n",
      "weighted avg       1.00      1.00      1.00    733705\n",
      "\n"
     ]
    }
   ],
   "source": [
    "print(confusion_matrix(y_test['category'], predictions_xgb['category']))\n",
    "print(classification_report(y_test['category'], predictions_xgb['category']))"
   ]
  },
  {
   "cell_type": "code",
   "execution_count": 32,
   "id": "0720e5d6",
   "metadata": {},
   "outputs": [
    {
     "name": "stdout",
     "output_type": "stream",
     "text": [
      "[[     2      0      0      0      0      0      0      0]\n",
      " [     0    497      0      0      1      0      0      0]\n",
      " [     0      1     19      0      0      1      0      0]\n",
      " [     0      0      0     91      0      0      0      0]\n",
      " [     0      0      0      0   3397    218      0      0]\n",
      " [     0      0      0      1    240  14543      0      0]\n",
      " [     0      0      0      0      0      0 318841      1]\n",
      " [     0      0      0      0      0      0      3 395849]]\n",
      "              precision    recall  f1-score   support\n",
      "\n",
      "           0       1.00      1.00      1.00         2\n",
      "           1       1.00      1.00      1.00       498\n",
      "           2       1.00      0.90      0.95        21\n",
      "           3       0.99      1.00      0.99        91\n",
      "           4       0.93      0.94      0.94      3615\n",
      "           5       0.99      0.98      0.98     14784\n",
      "           6       1.00      1.00      1.00    318842\n",
      "           7       1.00      1.00      1.00    395852\n",
      "\n",
      "    accuracy                           1.00    733705\n",
      "   macro avg       0.99      0.98      0.98    733705\n",
      "weighted avg       1.00      1.00      1.00    733705\n",
      "\n"
     ]
    }
   ],
   "source": [
    "print(confusion_matrix(y_test['subcategory'], predictions_xgb['subcategory']))\n",
    "print(classification_report(y_test['subcategory'], predictions_xgb['subcategory']))"
   ]
  },
  {
   "cell_type": "code",
   "execution_count": 33,
   "id": "70cecce7",
   "metadata": {},
   "outputs": [
    {
     "data": {
      "text/plain": [
       "0.999998637054402"
      ]
     },
     "execution_count": 33,
     "metadata": {},
     "output_type": "execute_result"
    }
   ],
   "source": [
    "xgb.xgb_attack.score(X_test,y_test['attack'])"
   ]
  },
  {
   "cell_type": "code",
   "execution_count": 34,
   "id": "74bdafe2",
   "metadata": {},
   "outputs": [
    {
     "data": {
      "text/plain": [
       "0.9993648673513197"
      ]
     },
     "execution_count": 34,
     "metadata": {},
     "output_type": "execute_result"
    }
   ],
   "source": [
    "xgb.xgb_subcategory.score(np.concatenate((X_test, np.array(predictions_xgb['attack'])\n",
    "                                          .reshape(-1,1), np.array(predictions_xgb['category'])\n",
    "                                          .reshape(-1,1)),axis=1),y_test['subcategory'])"
   ]
  },
  {
   "cell_type": "code",
   "execution_count": 36,
   "id": "eb94d13b",
   "metadata": {},
   "outputs": [],
   "source": [
    "# Test Data\n",
    "test_data = pd.read_csv(\"./dataset/UNSW_2018_IoT_Botnet_Final_10_best_Testing.csv\")"
   ]
  },
  {
   "cell_type": "code",
   "execution_count": 37,
   "id": "a08d802d",
   "metadata": {},
   "outputs": [],
   "source": [
    "# Extracting the ten-best features from test set\n",
    "test_ten_best = test_data[ten_best_features.columns]\n",
    "test_labels = test_data[['attack', 'category', 'subcategory']]"
   ]
  },
  {
   "cell_type": "code",
   "execution_count": 38,
   "id": "bc9a89da",
   "metadata": {},
   "outputs": [],
   "source": [
    "# Standard Scaling\n",
    "train_data = sc.fit_transform(ten_best_features)\n",
    "test = sc.transform(test_ten_best)"
   ]
  },
  {
   "cell_type": "code",
   "execution_count": 39,
   "id": "f519ffb5",
   "metadata": {},
   "outputs": [],
   "source": [
    "ten_best_features = data[['seq','stddev','N_IN_Conn_P_SrcIP', 'min', 'state_number', 'mean', 'N_IN_Conn_P_DstIP',\n",
    "       'drate', 'srate', 'max']]\n",
    "target_features = data[['attack','category','subcategory']]"
   ]
  },
  {
   "cell_type": "code",
   "execution_count": 40,
   "id": "ae62feea",
   "metadata": {},
   "outputs": [],
   "source": [
    "# Label Encoding\n",
    "target_features['category'] = le.fit_transform(target_features['category'])\n",
    "test_labels['category'] = le.transform(test_labels['category'])\n",
    "\n",
    "target_features['subcategory'] = le.fit_transform(target_features['subcategory'])\n",
    "test_labels['subcategory'] = le.transform(test_labels['subcategory'])"
   ]
  },
  {
   "cell_type": "code",
   "execution_count": 41,
   "id": "d36bad61",
   "metadata": {},
   "outputs": [],
   "source": [
    "# Training ML Models on Complete Data and Testing on test set\n",
    "# Random Forest\n",
    "rf_clf = RandomForest(max_depth=3)\n",
    "rf_clf.fit(train_data, target_features)\n",
    "predictions_rf = rf_clf.predict(test)"
   ]
  },
  {
   "cell_type": "code",
   "execution_count": 42,
   "id": "edeaf3e1",
   "metadata": {},
   "outputs": [
    {
     "name": "stdout",
     "output_type": "stream",
     "text": [
      "Random Forest: Attack\n",
      "\n",
      "[[     9     98]\n",
      " [     0 733598]] \n",
      "\n",
      "              precision    recall  f1-score   support\n",
      "\n",
      "           0       1.00      0.08      0.16       107\n",
      "           1       1.00      1.00      1.00    733598\n",
      "\n",
      "    accuracy                           1.00    733705\n",
      "   macro avg       1.00      0.54      0.58    733705\n",
      "weighted avg       1.00      1.00      1.00    733705\n",
      "\n"
     ]
    }
   ],
   "source": [
    "print(\"Random Forest: Attack\\n\")\n",
    "print(confusion_matrix(test_labels['attack'], predictions_rf['attack']), \"\\n\")\n",
    "print(classification_report(test_labels['attack'], predictions_rf['attack']))"
   ]
  },
  {
   "cell_type": "code",
   "execution_count": 43,
   "id": "78315bda",
   "metadata": {},
   "outputs": [
    {
     "name": "stdout",
     "output_type": "stream",
     "text": [
      "Random Forest: Category\n",
      "\n",
      "[[370454  14855      0      0      0]\n",
      " [ 34884 295227      0      1      0]\n",
      " [     0     59      0     48      0]\n",
      " [ 10101   1197      0   6865      0]\n",
      " [     0      5      0      9      0]]\n",
      "              precision    recall  f1-score   support\n",
      "\n",
      "           0       0.89      0.96      0.93    385309\n",
      "           1       0.95      0.89      0.92    330112\n",
      "           2       0.00      0.00      0.00       107\n",
      "           3       0.99      0.38      0.55     18163\n",
      "           4       0.00      0.00      0.00        14\n",
      "\n",
      "    accuracy                           0.92    733705\n",
      "   macro avg       0.57      0.45      0.48    733705\n",
      "weighted avg       0.92      0.92      0.91    733705\n",
      "\n"
     ]
    }
   ],
   "source": [
    "print(\"Random Forest: Category\\n\")\n",
    "print(confusion_matrix(test_labels['category'], predictions_rf['category']))\n",
    "print(classification_report(test_labels['category'], predictions_rf['category']))"
   ]
  },
  {
   "cell_type": "code",
   "execution_count": 44,
   "id": "e9d577fe",
   "metadata": {},
   "outputs": [
    {
     "name": "stdout",
     "output_type": "stream",
     "text": [
      "Random Forest: Subcategory\n",
      "\n",
      "[[     0      0      0      0      1    503      0]\n",
      " [     0      0      0      0      9      0      5]\n",
      " [     0      0      0      0     48     57      2]\n",
      " [     0      0      0      0    205   3413      3]\n",
      " [     0      0      0      0   6660   7874      8]\n",
      " [     0      0      0      0      0 318107    230]\n",
      " [     0      0      0      0      0     17 396563]]\n",
      "              precision    recall  f1-score   support\n",
      "\n",
      "           1       0.00      0.00      0.00       504\n",
      "           2       0.00      0.00      0.00        14\n",
      "           3       0.00      0.00      0.00       107\n",
      "           4       0.00      0.00      0.00      3621\n",
      "           5       0.96      0.46      0.62     14542\n",
      "           6       0.96      1.00      0.98    318337\n",
      "           7       1.00      1.00      1.00    396580\n",
      "\n",
      "    accuracy                           0.98    733705\n",
      "   macro avg       0.42      0.35      0.37    733705\n",
      "weighted avg       0.98      0.98      0.98    733705\n",
      "\n"
     ]
    }
   ],
   "source": [
    "print(\"Random Forest: Subcategory\\n\")\n",
    "print(confusion_matrix(test_labels['subcategory'], predictions_rf['subcategory']))\n",
    "print(classification_report(test_labels['subcategory'], predictions_rf['subcategory']))"
   ]
  },
  {
   "cell_type": "code",
   "execution_count": 45,
   "id": "f7a004f0",
   "metadata": {},
   "outputs": [],
   "source": [
    "# Naive Bayes\n",
    "nb_clf = NaiveBayes()\n",
    "nb_clf.fit(train_data, target_features)\n",
    "predictions_nb = nb_clf.predict(test)"
   ]
  },
  {
   "cell_type": "code",
   "execution_count": 46,
   "id": "7dfb9b35",
   "metadata": {},
   "outputs": [
    {
     "name": "stdout",
     "output_type": "stream",
     "text": [
      "Naive Bayes: Attack\n",
      "\n",
      "[[    96     11]\n",
      " [  2775 730823]]\n",
      "              precision    recall  f1-score   support\n",
      "\n",
      "           0       0.03      0.90      0.06       107\n",
      "           1       1.00      1.00      1.00    733598\n",
      "\n",
      "    accuracy                           1.00    733705\n",
      "   macro avg       0.52      0.95      0.53    733705\n",
      "weighted avg       1.00      1.00      1.00    733705\n",
      "\n"
     ]
    }
   ],
   "source": [
    "print(\"Naive Bayes: Attack\\n\")\n",
    "print(confusion_matrix(test_labels['attack'], predictions_nb['attack']))\n",
    "print(classification_report(test_labels['attack'], predictions_nb['attack']))"
   ]
  },
  {
   "cell_type": "code",
   "execution_count": 47,
   "id": "70ba20a2",
   "metadata": {},
   "outputs": [
    {
     "name": "stdout",
     "output_type": "stream",
     "text": [
      "Naive Bayes: Category\n",
      "\n",
      "[[368894  16264     31    120      0]\n",
      " [182703 146381    699    329      0]\n",
      " [     0      9     96      2      0]\n",
      " [ 10751   1630   2040   3742      0]\n",
      " [     0      1      5      0      8]] \n",
      "\n",
      "              precision    recall  f1-score   support\n",
      "\n",
      "           0       0.66      0.96      0.78    385309\n",
      "           1       0.89      0.44      0.59    330112\n",
      "           2       0.03      0.90      0.06       107\n",
      "           3       0.89      0.21      0.33     18163\n",
      "           4       1.00      0.57      0.73        14\n",
      "\n",
      "    accuracy                           0.71    733705\n",
      "   macro avg       0.69      0.62      0.50    733705\n",
      "weighted avg       0.77      0.71      0.68    733705\n",
      "\n"
     ]
    }
   ],
   "source": [
    "print(\"Naive Bayes: Category\\n\")\n",
    "print(confusion_matrix(test_labels['category'], predictions_nb['category']), \"\\n\")\n",
    "print(classification_report(test_labels['category'], predictions_nb['category']))"
   ]
  },
  {
   "cell_type": "code",
   "execution_count": 48,
   "id": "ab0fd930",
   "metadata": {},
   "outputs": [
    {
     "name": "stdout",
     "output_type": "stream",
     "text": [
      "Naive Bayes: Subcategory\n",
      "\n",
      "[[     0      0      0      0      0      0      0      0]\n",
      " [     0    337      0      7      0    146     14      0]\n",
      " [     1      0      7      5      0      0      1      0]\n",
      " [     0      0      0     96      1      1      9      0]\n",
      " [     0    199      0    128      0    151   3143      0]\n",
      " [     0    578      0   1912    612   2979   8461      0]\n",
      " [     0    815      0    715      5    296 316506      0]\n",
      " [     0      0      0      8      2      0     23 396547]]\n",
      "              precision    recall  f1-score   support\n",
      "\n",
      "           0       0.00      0.00      0.00         0\n",
      "           1       0.17      0.67      0.28       504\n",
      "           2       1.00      0.50      0.67        14\n",
      "           3       0.03      0.90      0.06       107\n",
      "           4       0.00      0.00      0.00      3621\n",
      "           5       0.83      0.20      0.33     14542\n",
      "           6       0.96      0.99      0.98    318337\n",
      "           7       1.00      1.00      1.00    396580\n",
      "\n",
      "    accuracy                           0.98    733705\n",
      "   macro avg       0.50      0.53      0.41    733705\n",
      "weighted avg       0.98      0.98      0.97    733705\n",
      "\n"
     ]
    }
   ],
   "source": [
    "print(\"Naive Bayes: Subcategory\\n\")\n",
    "print(confusion_matrix(test_labels['subcategory'], predictions_nb['subcategory']))\n",
    "print(classification_report(test_labels['subcategory'], predictions_nb['subcategory']))"
   ]
  },
  {
   "cell_type": "code",
   "execution_count": 49,
   "id": "0a4686e5",
   "metadata": {},
   "outputs": [],
   "source": [
    "# Decision Tree (Information Gain)\n",
    "dtree_ig_clf = DecisionTree('entropy')\n",
    "dtree_ig_clf.fit(train_data, target_features)\n",
    "predictions_ig = dtree_ig_clf.predict(test)"
   ]
  },
  {
   "cell_type": "code",
   "execution_count": 50,
   "id": "ce14bff9",
   "metadata": {},
   "outputs": [
    {
     "name": "stdout",
     "output_type": "stream",
     "text": [
      "Decision Tree (Information Gain): Attack\n",
      "\n",
      "[[    40     67]\n",
      " [     2 733596]] \n",
      "\n",
      "              precision    recall  f1-score   support\n",
      "\n",
      "           0       0.95      0.37      0.54       107\n",
      "           1       1.00      1.00      1.00    733598\n",
      "\n",
      "    accuracy                           1.00    733705\n",
      "   macro avg       0.98      0.69      0.77    733705\n",
      "weighted avg       1.00      1.00      1.00    733705\n",
      "\n"
     ]
    }
   ],
   "source": [
    "print(\"Decision Tree (Information Gain): Attack\\n\")\n",
    "print(confusion_matrix(test_labels['attack'], predictions_ig['attack']), \"\\n\")\n",
    "print(classification_report(test_labels['attack'], predictions_ig['attack']))"
   ]
  },
  {
   "cell_type": "code",
   "execution_count": 51,
   "id": "1fc01c39",
   "metadata": {},
   "outputs": [
    {
     "name": "stdout",
     "output_type": "stream",
     "text": [
      "Decision Tree (Information Gain): Category\n",
      "\n",
      "[[339497  45290      0    522      0]\n",
      " [ 11703 318367      0     42      0]\n",
      " [     9     15     33     50      0]\n",
      " [   351   7450      2  10360      0]\n",
      " [     0      0      0     14      0]]\n",
      "              precision    recall  f1-score   support\n",
      "\n",
      "           0       0.97      0.88      0.92    385309\n",
      "           1       0.86      0.96      0.91    330112\n",
      "           2       0.94      0.31      0.46       107\n",
      "           3       0.94      0.57      0.71     18163\n",
      "           4       0.00      0.00      0.00        14\n",
      "\n",
      "    accuracy                           0.91    733705\n",
      "   macro avg       0.74      0.54      0.60    733705\n",
      "weighted avg       0.92      0.91      0.91    733705\n",
      "\n"
     ]
    }
   ],
   "source": [
    "print(\"Decision Tree (Information Gain): Category\\n\")\n",
    "print(confusion_matrix(test_labels['category'], predictions_ig['category']))\n",
    "print(classification_report(test_labels['category'], predictions_ig['category']))"
   ]
  },
  {
   "cell_type": "code",
   "execution_count": 52,
   "id": "349f59fc",
   "metadata": {},
   "outputs": [
    {
     "name": "stdout",
     "output_type": "stream",
     "text": [
      "Decision Tree (Information Gain): Subcategory\n",
      "\n",
      "[[   384      0      0      0     87     33      0]\n",
      " [     0      5      0      0      9      0      0]\n",
      " [     0      0     38      4     44      9     12]\n",
      " [     0      0      2    942    574   2089     14]\n",
      " [    27      0      0    222   8623   5654     16]\n",
      " [    23      0      0      0    453 317861      0]\n",
      " [     0      0     24      0      0      8 396548]] \n",
      "\n",
      "              precision    recall  f1-score   support\n",
      "\n",
      "           1       0.88      0.76      0.82       504\n",
      "           2       1.00      0.36      0.53        14\n",
      "           3       0.59      0.36      0.44       107\n",
      "           4       0.81      0.26      0.39      3621\n",
      "           5       0.88      0.59      0.71     14542\n",
      "           6       0.98      1.00      0.99    318337\n",
      "           7       1.00      1.00      1.00    396580\n",
      "\n",
      "    accuracy                           0.99    733705\n",
      "   macro avg       0.88      0.62      0.70    733705\n",
      "weighted avg       0.99      0.99      0.99    733705\n",
      "\n"
     ]
    }
   ],
   "source": [
    "print(\"Decision Tree (Information Gain): Subcategory\\n\")\n",
    "print(confusion_matrix(test_labels['subcategory'], predictions_ig['subcategory']), \"\\n\")\n",
    "print(classification_report(test_labels['subcategory'], predictions_ig['subcategory']))"
   ]
  },
  {
   "cell_type": "code",
   "execution_count": 53,
   "id": "5c13fc81",
   "metadata": {},
   "outputs": [],
   "source": [
    "# Decision Tree (Gini Index)\n",
    "dtree_gi_clf = DecisionTree('gini')\n",
    "dtree_gi_clf.fit(train_data, target_features)\n",
    "predictions_gi = dtree_gi_clf.predict(test)"
   ]
  },
  {
   "cell_type": "code",
   "execution_count": 54,
   "id": "38434973",
   "metadata": {},
   "outputs": [
    {
     "name": "stdout",
     "output_type": "stream",
     "text": [
      "Decision Tree (Gini Index): Attack\n",
      "\n",
      "[[    39     68]\n",
      " [     3 733595]] \n",
      "\n",
      "              precision    recall  f1-score   support\n",
      "\n",
      "           0       0.93      0.36      0.52       107\n",
      "           1       1.00      1.00      1.00    733598\n",
      "\n",
      "    accuracy                           1.00    733705\n",
      "   macro avg       0.96      0.68      0.76    733705\n",
      "weighted avg       1.00      1.00      1.00    733705\n",
      "\n"
     ]
    }
   ],
   "source": [
    "print(\"Decision Tree (Gini Index): Attack\\n\")\n",
    "print(confusion_matrix(test_labels['attack'], predictions_gi['attack']),\"\\n\")\n",
    "print(classification_report(test_labels['attack'], predictions_gi['attack']))"
   ]
  },
  {
   "cell_type": "code",
   "execution_count": 55,
   "id": "7b9a5a4c",
   "metadata": {},
   "outputs": [
    {
     "name": "stdout",
     "output_type": "stream",
     "text": [
      "Decision Tree (Gini Index): Category\n",
      "\n",
      "[[338396  46453      0    460      0]\n",
      " [  8631 321472      1      8      0]\n",
      " [     0     18     33     56      0]\n",
      " [    68   7383      2  10710      0]\n",
      " [     0      5      0      9      0]]\n",
      "              precision    recall  f1-score   support\n",
      "\n",
      "           0       0.97      0.88      0.92    385309\n",
      "           1       0.86      0.97      0.91    330112\n",
      "           2       0.92      0.31      0.46       107\n",
      "           3       0.95      0.59      0.73     18163\n",
      "           4       0.00      0.00      0.00        14\n",
      "\n",
      "    accuracy                           0.91    733705\n",
      "   macro avg       0.74      0.55      0.61    733705\n",
      "weighted avg       0.92      0.91      0.91    733705\n",
      "\n"
     ]
    }
   ],
   "source": [
    "print(\"Decision Tree (Gini Index): Category\\n\")\n",
    "print(confusion_matrix(test_labels['category'], predictions_gi['category']))\n",
    "print(classification_report(test_labels['category'], predictions_gi['category']))"
   ]
  },
  {
   "cell_type": "code",
   "execution_count": 56,
   "id": "cb8a00ab",
   "metadata": {},
   "outputs": [
    {
     "name": "stdout",
     "output_type": "stream",
     "text": [
      "Decision Tree (Gini Index): Subcategory\n",
      "\n",
      "[[   416      0      0      0     10     78      0]\n",
      " [     0      5      0      0      9      0      0]\n",
      " [     1      0     17      5     82      2      0]\n",
      " [    10      0      5    860    710   2036      0]\n",
      " [     6      3      5     71   9069   5387      1]\n",
      " [    63      0      0      0    459 317814      1]\n",
      " [     0      0      0      0      0      9 396571]] \n",
      "\n",
      "              precision    recall  f1-score   support\n",
      "\n",
      "           1       0.84      0.83      0.83       504\n",
      "           2       0.62      0.36      0.45        14\n",
      "           3       0.63      0.16      0.25       107\n",
      "           4       0.92      0.24      0.38      3621\n",
      "           5       0.88      0.62      0.73     14542\n",
      "           6       0.98      1.00      0.99    318337\n",
      "           7       1.00      1.00      1.00    396580\n",
      "\n",
      "    accuracy                           0.99    733705\n",
      "   macro avg       0.84      0.60      0.66    733705\n",
      "weighted avg       0.99      0.99      0.99    733705\n",
      "\n"
     ]
    }
   ],
   "source": [
    "print(\"Decision Tree (Gini Index): Subcategory\\n\")\n",
    "print(confusion_matrix(test_labels['subcategory'], predictions_gi['subcategory']),\"\\n\")\n",
    "print(classification_report(test_labels['subcategory'], predictions_gi['subcategory']))"
   ]
  },
  {
   "cell_type": "code",
   "execution_count": 57,
   "id": "89c23b63",
   "metadata": {},
   "outputs": [],
   "source": [
    "# Gradient Boost\n",
    "xgb_clf = GradientBoost()\n",
    "xgb_clf.fit(train_data,target_features)\n",
    "predictions_gb = xgb_clf.predict(test)"
   ]
  },
  {
   "cell_type": "code",
   "execution_count": 58,
   "id": "07d3c773",
   "metadata": {},
   "outputs": [
    {
     "name": "stdout",
     "output_type": "stream",
     "text": [
      "Gradient Boost: Attack\n",
      "\n",
      "[[   100      7]\n",
      " [     1 733597]] \n",
      "\n",
      "              precision    recall  f1-score   support\n",
      "\n",
      "           0       0.99      0.93      0.96       107\n",
      "           1       1.00      1.00      1.00    733598\n",
      "\n",
      "    accuracy                           1.00    733705\n",
      "   macro avg       1.00      0.97      0.98    733705\n",
      "weighted avg       1.00      1.00      1.00    733705\n",
      "\n"
     ]
    }
   ],
   "source": [
    "print(\"Gradient Boost: Attack\\n\")\n",
    "print(confusion_matrix(test_labels['attack'], predictions_gb['attack']), \"\\n\")\n",
    "print(classification_report(test_labels['attack'], predictions_gb['attack']))"
   ]
  },
  {
   "cell_type": "code",
   "execution_count": 59,
   "id": "d1489e26",
   "metadata": {},
   "outputs": [
    {
     "name": "stdout",
     "output_type": "stream",
     "text": [
      "Gradient Boost: Category\n",
      "\n",
      "[[385296     12      0      1      0]\n",
      " [    17 330094      1      0      0]\n",
      " [     0      0    100      7      0]\n",
      " [     0      1      0  18162      0]\n",
      " [     0      0      0      0     14]] \n",
      "\n",
      "              precision    recall  f1-score   support\n",
      "\n",
      "           0       1.00      1.00      1.00    385309\n",
      "           1       1.00      1.00      1.00    330112\n",
      "           2       0.99      0.93      0.96       107\n",
      "           3       1.00      1.00      1.00     18163\n",
      "           4       1.00      1.00      1.00        14\n",
      "\n",
      "    accuracy                           1.00    733705\n",
      "   macro avg       1.00      0.99      0.99    733705\n",
      "weighted avg       1.00      1.00      1.00    733705\n",
      "\n"
     ]
    }
   ],
   "source": [
    "print(\"Gradient Boost: Category\\n\")\n",
    "print(confusion_matrix(test_labels['category'], predictions_gb['category']), \"\\n\")\n",
    "print(classification_report(test_labels['category'], predictions_gb['category']))"
   ]
  },
  {
   "cell_type": "code",
   "execution_count": 60,
   "id": "106f6c15",
   "metadata": {},
   "outputs": [
    {
     "name": "stdout",
     "output_type": "stream",
     "text": [
      "Gradient Boost: Subcategory\n",
      "\n",
      "[[   496      0      1      0      1      6      0]\n",
      " [     0     14      0      0      0      0      0]\n",
      " [     0      0    100      0      7      0      0]\n",
      " [     0      0      0   3350    271      0      0]\n",
      " [     1      0      0    227  14314      0      0]\n",
      " [     0      0      0      0      0 318337      0]\n",
      " [     1      0      0      0      0      5 396574]] \n",
      "\n",
      "              precision    recall  f1-score   support\n",
      "\n",
      "           1       1.00      0.98      0.99       504\n",
      "           2       1.00      1.00      1.00        14\n",
      "           3       0.99      0.93      0.96       107\n",
      "           4       0.94      0.93      0.93      3621\n",
      "           5       0.98      0.98      0.98     14542\n",
      "           6       1.00      1.00      1.00    318337\n",
      "           7       1.00      1.00      1.00    396580\n",
      "\n",
      "    accuracy                           1.00    733705\n",
      "   macro avg       0.99      0.98      0.98    733705\n",
      "weighted avg       1.00      1.00      1.00    733705\n",
      "\n"
     ]
    }
   ],
   "source": [
    "print(\"Gradient Boost: Subcategory\\n\")\n",
    "print(confusion_matrix(test_labels['subcategory'], predictions_gb['subcategory']), \"\\n\")\n",
    "print(classification_report(test_labels['subcategory'], predictions_gb['subcategory']))"
   ]
  },
  {
   "cell_type": "code",
   "execution_count": null,
   "id": "0707c690",
   "metadata": {},
   "outputs": [],
   "source": []
  }
 ],
 "metadata": {
  "kernelspec": {
   "display_name": "Python 3 (ipykernel)",
   "language": "python",
   "name": "python3"
  },
  "language_info": {
   "codemirror_mode": {
    "name": "ipython",
    "version": 3
   },
   "file_extension": ".py",
   "mimetype": "text/x-python",
   "name": "python",
   "nbconvert_exporter": "python",
   "pygments_lexer": "ipython3",
   "version": "3.7.3"
  }
 },
 "nbformat": 4,
 "nbformat_minor": 5
}
