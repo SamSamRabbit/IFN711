{
 "cells": [
  {
   "cell_type": "code",
   "execution_count": 2,
   "metadata": {},
   "outputs": [
    {
     "name": "stderr",
     "output_type": "stream",
     "text": [
      "C:\\ProgramData\\Anaconda3\\lib\\site-packages\\ipykernel_launcher.py:20: SettingWithCopyWarning: \n",
      "A value is trying to be set on a copy of a slice from a DataFrame.\n",
      "Try using .loc[row_indexer,col_indexer] = value instead\n",
      "\n",
      "See the caveats in the documentation: http://pandas.pydata.org/pandas-docs/stable/indexing.html#indexing-view-versus-copy\n",
      "C:\\ProgramData\\Anaconda3\\lib\\site-packages\\ipykernel_launcher.py:21: SettingWithCopyWarning: \n",
      "A value is trying to be set on a copy of a slice from a DataFrame.\n",
      "Try using .loc[row_indexer,col_indexer] = value instead\n",
      "\n",
      "See the caveats in the documentation: http://pandas.pydata.org/pandas-docs/stable/indexing.html#indexing-view-versus-copy\n"
     ]
    }
   ],
   "source": [
    "import cleverhans\n",
    "import tensorflow as tf\n",
    "import pandas as pd\n",
    "import numpy as np\n",
    "import matplotlib.pyplot as plt\n",
    "from sklearn.preprocessing import LabelEncoder, StandardScaler\n",
    "from sklearn.model_selection import train_test_split\n",
    "from sklearn import preprocessing\n",
    "from keras.utils import np_utils\n",
    "# new Data preparation\n",
    "\n",
    "# Training Dataset\n",
    "data = pd.read_csv(\"./dataset/UNSW_2018_IoT_Botnet_Final_10_best_Training.csv\")\n",
    "\n",
    "x_features = data[['seq','stddev','N_IN_Conn_P_SrcIP', 'min', 'state_number', 'mean', 'N_IN_Conn_P_DstIP',\n",
    "       'drate', 'srate', 'max', 'category', 'subcategory']]\n",
    "\n",
    "# Label Encoding the target columns\n",
    "le = LabelEncoder()\n",
    "x_features['category'] = le.fit_transform(x_features['category'])\n",
    "x_features['subcategory'] = le.fit_transform(x_features['subcategory'])\n",
    "\n",
    "x = x_features.values\n",
    "x = preprocessing.scale(x)\n",
    "y = data['attack'].values\n",
    "\n",
    "X_train, X_test, y_train, y_test = train_test_split(x, y, test_size=0.2)\n",
    "\n",
    "y_train_cat = np_utils.to_categorical(y_train)\n",
    "y_test_cat = np_utils.to_categorical(y_test)"
   ]
  },
  {
   "cell_type": "code",
   "execution_count": 3,
   "metadata": {},
   "outputs": [],
   "source": [
    "# Define model\n",
    "\n",
    "model = tf.keras.Sequential([\n",
    "        tf.keras.layers.Dense(200, input_dim=x.shape[1], activation=tf.nn.relu),\n",
    "        tf.keras.layers.Dense(500, activation=tf.nn.relu),\n",
    "        tf.keras.layers.Dense(200, activation=tf.nn.relu),\n",
    "        tf.keras.layers.Dense(len(np.unique(y))),\n",
    "        # We seperate the activation layer to be able to access\n",
    "        # the logits of the previous layer later\n",
    "        tf.keras.layers.Activation(tf.nn.softmax)\n",
    "        ])\n",
    "\n",
    "model.compile(optimizer='adam',\n",
    "              loss= 'categorical_crossentropy',\n",
    "              metrics=['accuracy'])"
   ]
  },
  {
   "cell_type": "code",
   "execution_count": 3,
   "metadata": {},
   "outputs": [
    {
     "name": "stdout",
     "output_type": "stream",
     "text": [
      "Epoch 1/10\n",
      "58697/58697 [==============================] - 149s 3ms/step - loss: 0.0023 - accuracy: 0.9999 - val_loss: 0.0033 - val_accuracy: 1.0000\n",
      "Epoch 2/10\n",
      "58697/58697 [==============================] - 163s 3ms/step - loss: 3.9948e-04 - accuracy: 1.0000 - val_loss: 0.0028 - val_accuracy: 1.0000\n",
      "Epoch 3/10\n",
      "58697/58697 [==============================] - 150s 3ms/step - loss: 5.9921e-04 - accuracy: 1.0000 - val_loss: 0.0024 - val_accuracy: 1.0000\n",
      "Epoch 4/10\n",
      "58697/58697 [==============================] - 158s 3ms/step - loss: 6.8712e-04 - accuracy: 1.0000 - val_loss: 2.7956e-04 - val_accuracy: 1.0000\n",
      "Epoch 5/10\n",
      "58697/58697 [==============================] - 156s 3ms/step - loss: 1.5962e-04 - accuracy: 1.0000 - val_loss: 9.9860e-04 - val_accuracy: 1.0000\n",
      "Epoch 6/10\n",
      "58697/58697 [==============================] - 156s 3ms/step - loss: 3.0442e-04 - accuracy: 1.0000 - val_loss: 1.6701e-04 - val_accuracy: 1.0000\n",
      "Epoch 7/10\n",
      "58697/58697 [==============================] - 161s 3ms/step - loss: 4.7276e-04 - accuracy: 1.0000 - val_loss: 1.8064e-05 - val_accuracy: 1.0000\n",
      "Epoch 8/10\n",
      "58697/58697 [==============================] - 155s 3ms/step - loss: 1.7895e-04 - accuracy: 1.0000 - val_loss: 5.8578e-04 - val_accuracy: 1.0000\n",
      "Epoch 9/10\n",
      "58697/58697 [==============================] - 150s 3ms/step - loss: 1.3278e-04 - accuracy: 1.0000 - val_loss: 1.2855e-04 - val_accuracy: 0.9999\n",
      "Epoch 10/10\n",
      "58697/58697 [==============================] - 154s 3ms/step - loss: 1.1676e-04 - accuracy: 1.0000 - val_loss: 8.9294e-05 - val_accuracy: 1.0000\n",
      "18343/18343 [==============================] - 23s 1ms/step - loss: 1.1028e-04 - accuracy: 1.0000\n",
      "Test accuracy: 0.9999982714653015\n"
     ]
    }
   ],
   "source": [
    "# Train Classification model\n",
    "\n",
    "y_train_cat = np_utils.to_categorical(y_train)\n",
    "y_test_cat = np_utils.to_categorical(y_test)\n",
    "\n",
    "model.fit(X_train, y_train_cat, epochs=10, validation_split=0.2)\n",
    "\n",
    "test_loss, test_acc = model.evaluate(X_test, y_test_cat)\n",
    "print('Test accuracy:', test_acc)"
   ]
  },
  {
   "cell_type": "code",
   "execution_count": 4,
   "metadata": {},
   "outputs": [
    {
     "name": "stdout",
     "output_type": "stream",
     "text": [
      "18343/18343 [==============================] - 17s 932us/step\n",
      "**************************************************\n",
      "Original confusion matrix\n",
      "[[     4     80]\n",
      " [359238 227642]]\n"
     ]
    }
   ],
   "source": [
    "# Original Confusion Matrix of Model\n",
    "\n",
    "from sklearn.metrics import confusion_matrix\n",
    "y_pred = model.predict(X_test)\n",
    "y_pred=np.argmax(y_pred, axis=1)\n",
    "cm_org = confusion_matrix(y_test, y_pred)\n",
    "print(\"*\"*50)\n",
    "print(\"Original confusion matrix\")\n",
    "print(cm_org)"
   ]
  },
  {
   "cell_type": "code",
   "execution_count": 5,
   "metadata": {
    "scrolled": true
   },
   "outputs": [
    {
     "name": "stdout",
     "output_type": "stream",
     "text": [
      "18343/18343 [==============================] - 22s 1ms/step\n",
      "********************\n",
      "Attacked confusion matrix\n",
      "[[     7     77]\n",
      " [311728 275152]]\n"
     ]
    }
   ],
   "source": [
    "# Import the attack\n",
    "from cleverhans.future.tf2.attacks import fast_gradient_method\n",
    "\n",
    "#The attack requires the model to ouput the logits\n",
    "logits_model = tf.keras.Model(model.input, model.layers[-1].output)\n",
    "\n",
    "epsilon = 0.1\n",
    "adv_fgsm_x = fast_gradient_method(logits_model, X_test, epsilon, np.inf, targeted=False)\n",
    "\n",
    "# Attack sample confusion matrix\n",
    "y_pred = model.predict(adv_fgsm_x)\n",
    "y_pred=np.argmax(y_pred, axis=1)\n",
    "cm_adv = confusion_matrix(y_test, y_pred)\n",
    "print(\"*\"*20)\n",
    "print(\"Attacked confusion matrix\")\n",
    "print(cm_adv)"
   ]
  },
  {
   "cell_type": "code",
   "execution_count": 9,
   "metadata": {
    "scrolled": true
   },
   "outputs": [
    {
     "name": "stdout",
     "output_type": "stream",
     "text": [
      "tf.Tensor(\n",
      "[[-0.53913366  1.20519677  0.71545303 ...  0.74155357  0.75246724\n",
      "   0.84493152]\n",
      " [ 0.29728963  1.32828562 -0.76055039 ...  0.61546879 -0.83068184\n",
      "   0.84493152]\n",
      " [ 0.01738669 -1.03265755  0.71545303 ...  0.32612128 -0.83068184\n",
      "  -0.86685956]\n",
      " ...\n",
      " [-1.2337648   0.50046989  0.71545303 ...  0.60909558 -0.83068184\n",
      "   0.84493152]\n",
      " [-1.55738237  0.07869345  0.71545303 ...  0.55761283 -0.83068184\n",
      "   0.84493152]\n",
      " [ 0.24483999  0.83125896 -0.7195503  ...  0.31449904  0.75246724\n",
      "   0.84493152]], shape=(586964, 12), dtype=float64)\n"
     ]
    }
   ],
   "source": [
    "# Adversarial sample generated\n",
    "print(adv_fgsm_x)"
   ]
  },
  {
   "cell_type": "code",
   "execution_count": 6,
   "metadata": {
    "scrolled": false
   },
   "outputs": [
    {
     "name": "stdout",
     "output_type": "stream",
     "text": [
      "Epoch 1/10\n",
      "146741/146741 [==============================] - 366s 2ms/step - loss: 0.0057 - accuracy: 1.0000 - val_loss: 0.0036 - val_accuracy: 1.0000\n",
      "Epoch 2/10\n",
      "146741/146741 [==============================] - 354s 2ms/step - loss: 0.0041 - accuracy: 1.0000 - val_loss: 1.5897e-04 - val_accuracy: 1.0000\n",
      "Epoch 3/10\n",
      "146741/146741 [==============================] - 350s 2ms/step - loss: 0.0018 - accuracy: 1.0000 - val_loss: 0.0043 - val_accuracy: 1.0000\n",
      "Epoch 4/10\n",
      "146741/146741 [==============================] - 340s 2ms/step - loss: 9.7766e-04 - accuracy: 1.0000 - val_loss: 1.2938e-04 - val_accuracy: 1.0000\n",
      "Epoch 5/10\n",
      "146741/146741 [==============================] - 388s 3ms/step - loss: 2.7376e-04 - accuracy: 1.0000 - val_loss: 1.5582e-04 - val_accuracy: 1.0000\n",
      "Epoch 6/10\n",
      "146741/146741 [==============================] - 394s 3ms/step - loss: 6.1251e-04 - accuracy: 1.0000 - val_loss: 9.6285e-05 - val_accuracy: 1.0000\n",
      "Epoch 7/10\n",
      "146741/146741 [==============================] - 408s 3ms/step - loss: 3.0518e-04 - accuracy: 1.0000 - val_loss: 6.3957e-04 - val_accuracy: 1.0000\n",
      "Epoch 8/10\n",
      "146741/146741 [==============================] - 405s 3ms/step - loss: 1.5809e-04 - accuracy: 1.0000 - val_loss: 1.1817e-04 - val_accuracy: 1.0000\n",
      "Epoch 9/10\n",
      "146741/146741 [==============================] - 421s 3ms/step - loss: 7.0335e-04 - accuracy: 1.0000 - val_loss: 8.8746e-04 - val_accuracy: 1.0000\n",
      "Epoch 10/10\n",
      "146741/146741 [==============================] - 421s 3ms/step - loss: 2.7457e-04 - accuracy: 1.0000 - val_loss: 1.2998e-04 - val_accuracy: 1.0000\n",
      "18343/18343 [==============================] - 22s 1ms/step\n",
      "********************\n",
      "Adversarial training confusion matrix\n",
      "[[    83      1]\n",
      " [     0 586880]]\n"
     ]
    }
   ],
   "source": [
    "# Adversarial training confusion matrix\n",
    "adv_fgsm_x_train = fast_gradient_method(logits_model, X_train, epsilon, np.inf, targeted=False)\n",
    "adv_fgsm_x_test = fast_gradient_method(logits_model, X_test, epsilon, np.inf, targeted=False)\n",
    "\n",
    "concat_adv_x = np.concatenate([X_train, adv_fgsm_x_train])\n",
    "concat_y_train = np.concatenate([y_train_cat, y_train_cat])\n",
    "\n",
    "# Adversarial training\n",
    "model.fit(concat_adv_x, concat_y_train, epochs=10, validation_data=(adv_fgsm_x_test, y_test_cat))\n",
    "y_pred = model.predict(adv_fgsm_x_test)\n",
    "y_pred = np.argmax(y_pred, axis=1)\n",
    "# Print out Confusion Matrix\n",
    "cm_adv = confusion_matrix(y_test, y_pred)\n",
    "print(\"*\"*20)\n",
    "print(\"Adversarial training confusion matrix\")\n",
    "print(cm_adv)"
   ]
  },
  {
   "cell_type": "code",
   "execution_count": null,
   "metadata": {},
   "outputs": [],
   "source": []
  }
 ],
 "metadata": {
  "kernelspec": {
   "display_name": "Python 3 (ipykernel)",
   "language": "python",
   "name": "python3"
  },
  "language_info": {
   "codemirror_mode": {
    "name": "ipython",
    "version": 3
   },
   "file_extension": ".py",
   "mimetype": "text/x-python",
   "name": "python",
   "nbconvert_exporter": "python",
   "pygments_lexer": "ipython3",
   "version": "3.7.3"
  }
 },
 "nbformat": 4,
 "nbformat_minor": 2
}
