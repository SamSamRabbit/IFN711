{
 "cells": [
  {
   "cell_type": "code",
   "execution_count": 1,
   "id": "659df208",
   "metadata": {},
   "outputs": [],
   "source": [
    "import cleverhans\n",
    "import tensorflow as tf\n",
    "import pandas as pd\n",
    "import numpy as np\n",
    "import matplotlib.pyplot as plt\n",
    "from sklearn.preprocessing import LabelEncoder, StandardScaler\n",
    "from sklearn.model_selection import train_test_split\n",
    "from sklearn import preprocessing"
   ]
  },
  {
   "cell_type": "code",
   "execution_count": 18,
   "id": "b2a9aec2",
   "metadata": {},
   "outputs": [
    {
     "name": "stderr",
     "output_type": "stream",
     "text": [
      "C:\\Users\\sumsu\\Anaconda3\\lib\\site-packages\\ipykernel_launcher.py:11: SettingWithCopyWarning: \n",
      "A value is trying to be set on a copy of a slice from a DataFrame.\n",
      "Try using .loc[row_indexer,col_indexer] = value instead\n",
      "\n",
      "See the caveats in the documentation: https://pandas.pydata.org/pandas-docs/stable/user_guide/indexing.html#returning-a-view-versus-a-copy\n",
      "  # This is added back by InteractiveShellApp.init_path()\n",
      "C:\\Users\\sumsu\\Anaconda3\\lib\\site-packages\\ipykernel_launcher.py:12: SettingWithCopyWarning: \n",
      "A value is trying to be set on a copy of a slice from a DataFrame.\n",
      "Try using .loc[row_indexer,col_indexer] = value instead\n",
      "\n",
      "See the caveats in the documentation: https://pandas.pydata.org/pandas-docs/stable/user_guide/indexing.html#returning-a-view-versus-a-copy\n",
      "  if sys.path[0] == '':\n"
     ]
    }
   ],
   "source": [
    "# new Data preparation\n",
    "\n",
    "# Training Dataset\n",
    "data = pd.read_csv(\"./dataset/UNSW_2018_IoT_Botnet_Final_10_best_Training.csv\")\n",
    "\n",
    "x_features = data[['seq','stddev','N_IN_Conn_P_SrcIP', 'min', 'state_number', 'mean', 'N_IN_Conn_P_DstIP',\n",
    "       'drate', 'srate', 'max', 'category', 'subcategory']]\n",
    "\n",
    "# Label Encoding the target columns\n",
    "le = LabelEncoder()\n",
    "x_features['category'] = le.fit_transform(x_features['category'])\n",
    "x_features['subcategory'] = le.fit_transform(x_features['subcategory'])\n",
    "\n",
    "x = x_features.values\n",
    "x = preprocessing.scale(x)\n",
    "y = data['attack'].values\n",
    "\n",
    "X_train, X_test, y_train, y_test = train_test_split(x, y, test_size=0.2)\n",
    "\n",
    "y_train_cat = np_utils.to_categorical(y_train)\n",
    "y_test_cat = np_utils.to_categorical(y_test)"
   ]
  },
  {
   "cell_type": "code",
   "execution_count": 19,
   "id": "52f9dfe8",
   "metadata": {},
   "outputs": [],
   "source": [
    "model = tf.keras.Sequential([\n",
    "        tf.keras.layers.Dense(200, input_dim=x.shape[1], activation=tf.nn.relu),\n",
    "        tf.keras.layers.Dense(500, activation=tf.nn.relu),\n",
    "        tf.keras.layers.Dense(200, activation=tf.nn.relu),\n",
    "        tf.keras.layers.Dense(len(np.unique(y))),\n",
    "        # We seperate the activation layer to be able to access\n",
    "        # the logits of the previous layer later\n",
    "        tf.keras.layers.Activation(tf.nn.softmax)\n",
    "        ])\n",
    "\n",
    "model.compile(optimizer='adam',\n",
    "              loss= 'categorical_crossentropy',\n",
    "              metrics=['accuracy'])"
   ]
  },
  {
   "cell_type": "code",
   "execution_count": 21,
   "id": "a55e2faf",
   "metadata": {},
   "outputs": [
    {
     "name": "stdout",
     "output_type": "stream",
     "text": [
      "Epoch 1/10\n",
      "58697/58697 [==============================] - 480s 8ms/step - loss: 0.0012 - accuracy: 1.0000 - val_loss: 2.9071e-04 - val_accuracy: 1.0000\n",
      "Epoch 2/10\n",
      "58697/58697 [==============================] - 213s 4ms/step - loss: 3.6129e-04 - accuracy: 1.0000 - val_loss: 0.0014 - val_accuracy: 1.0000\n",
      "Epoch 3/10\n",
      "58697/58697 [==============================] - 173s 3ms/step - loss: 3.2833e-04 - accuracy: 1.0000 - val_loss: 1.1227e-04 - val_accuracy: 1.0000\n",
      "Epoch 4/10\n",
      "58697/58697 [==============================] - 313s 5ms/step - loss: 4.8665e-04 - accuracy: 1.0000 - val_loss: 0.0028 - val_accuracy: 1.0000\n",
      "Epoch 5/10\n",
      "58697/58697 [==============================] - 304s 5ms/step - loss: 0.0012 - accuracy: 1.0000 - val_loss: 3.4646e-05 - val_accuracy: 1.0000\n",
      "Epoch 6/10\n",
      "58697/58697 [==============================] - 154s 3ms/step - loss: 4.1249e-04 - accuracy: 1.0000 - val_loss: 3.2963e-04 - val_accuracy: 1.0000\n",
      "Epoch 7/10\n",
      "58697/58697 [==============================] - 130s 2ms/step - loss: 1.3827e-04 - accuracy: 1.0000 - val_loss: 0.0015 - val_accuracy: 1.0000\n",
      "Epoch 8/10\n",
      "58697/58697 [==============================] - 130s 2ms/step - loss: 3.1222e-04 - accuracy: 1.0000 - val_loss: 5.7077e-04 - val_accuracy: 1.0000\n",
      "Epoch 9/10\n",
      "58697/58697 [==============================] - 131s 2ms/step - loss: 8.5157e-05 - accuracy: 1.0000 - val_loss: 0.0031 - val_accuracy: 1.0000\n",
      "Epoch 10/10\n",
      "58697/58697 [==============================] - 134s 2ms/step - loss: 2.5185e-04 - accuracy: 1.0000 - val_loss: 1.5502e-05 - val_accuracy: 1.0000\n"
     ]
    },
    {
     "data": {
      "text/plain": [
       "<keras.callbacks.History at 0x1a0b8ff62b0>"
      ]
     },
     "execution_count": 21,
     "metadata": {},
     "output_type": "execute_result"
    }
   ],
   "source": [
    "from keras.utils import np_utils\n",
    "y_train_cat = np_utils.to_categorical(y_train)\n",
    "y_test_cat = np_utils.to_categorical(y_test)\n",
    "\n",
    "model.fit(X_train, y_train_cat, epochs=10, validation_split=0.2)"
   ]
  },
  {
   "cell_type": "code",
   "execution_count": 22,
   "id": "aa557fcf",
   "metadata": {},
   "outputs": [
    {
     "name": "stdout",
     "output_type": "stream",
     "text": [
      "18343/18343 [==============================] - 18s 1ms/step - loss: 1.8012e-05 - accuracy: 1.0000\n",
      "Test accuracy: 0.9999948740005493\n"
     ]
    }
   ],
   "source": [
    "test_loss, test_acc = model.evaluate(X_test, y_test_cat)\n",
    "\n",
    "print('Test accuracy:', test_acc)"
   ]
  },
  {
   "cell_type": "code",
   "execution_count": 26,
   "id": "29ecf6dd",
   "metadata": {},
   "outputs": [
    {
     "name": "stdout",
     "output_type": "stream",
     "text": [
      "18343/18343 [==============================] - 16s 893us/step\n",
      "**************************************************\n",
      "Original confusion matrix\n",
      "[[    74      1]\n",
      " [     2 586887]]\n"
     ]
    }
   ],
   "source": [
    "from sklearn.metrics import confusion_matrix\n",
    "y_pred = model.predict(X_test)\n",
    "y_pred=np.argmax(y_pred, axis=1)\n",
    "cm_org = confusion_matrix(y_test, y_pred)\n",
    "print(\"*\"*50)\n",
    "print(\"Original confusion matrix\")\n",
    "print(cm_org)"
   ]
  },
  {
   "cell_type": "code",
   "execution_count": 28,
   "id": "8a4efe1a",
   "metadata": {},
   "outputs": [],
   "source": [
    "# Import the attack\n",
    "from cleverhans.future.tf2.attacks import fast_gradient_method\n",
    "\n",
    "#The attack requires the model to ouput the logits\n",
    "logits_model = tf.keras.Model(model.input, model.layers[-1].output)\n",
    "\n",
    "epsilon = 0.1\n",
    "adv_fgsm_x = fast_gradient_method(logits_model,\n",
    "                                  X_test,\n",
    "                                  epsilon,\n",
    "                                  np.inf,\n",
    "                                  targeted=False)"
   ]
  },
  {
   "cell_type": "code",
   "execution_count": 31,
   "id": "7bcc8d7f",
   "metadata": {},
   "outputs": [
    {
     "name": "stdout",
     "output_type": "stream",
     "text": [
      "18343/18343 [==============================] - 28s 2ms/step\n",
      "********************\n",
      "Attacked confusion matrix\n",
      "[[    74      1]\n",
      " [     3 586886]]\n"
     ]
    }
   ],
   "source": [
    "y_pred = model.predict(adv_fgsm_x)\n",
    "y_pred=np.argmax(y_pred, axis=1)\n",
    "cm_adv = confusion_matrix(y_test, y_pred)\n",
    "print(\"*\"*20)\n",
    "print(\"Attacked confusion matrix\")\n",
    "print(cm_adv)"
   ]
  },
  {
   "cell_type": "code",
   "execution_count": 32,
   "id": "5fa2ceb9",
   "metadata": {},
   "outputs": [
    {
     "name": "stdout",
     "output_type": "stream",
     "text": [
      "tf.Tensor(\n",
      "[[ 0.25420835 -0.54503437 -1.58055229 ...  0.73174065 -0.83068184\n",
      "  -0.86685956]\n",
      " [ 0.88066156 -0.41423933  0.71545303 ...  0.86690376  0.75246724\n",
      "   0.84493152]\n",
      " [ 1.58192972 -0.81455091 -2.52355448 ...  0.81584392 -0.83068184\n",
      "   0.84493152]\n",
      " ...\n",
      " [ 1.39726741 -1.10368447  0.46945246 ... -1.6224652   0.75246724\n",
      "  -0.86685956]\n",
      " [-1.5093926  -0.52250187  0.71545303 ...  1.06422394 -0.83068184\n",
      "   0.84493152]\n",
      " [-0.84419526 -1.20368447 -1.02955125 ... -1.5224652   0.65246724\n",
      "  -0.96685956]], shape=(586964, 12), dtype=float64)\n"
     ]
    }
   ],
   "source": [
    "print(adv_fgsm_x)"
   ]
  },
  {
   "cell_type": "code",
   "execution_count": null,
   "id": "6c65c59f",
   "metadata": {},
   "outputs": [],
   "source": []
  }
 ],
 "metadata": {
  "kernelspec": {
   "display_name": "Python 3 (ipykernel)",
   "language": "python",
   "name": "python3"
  },
  "language_info": {
   "codemirror_mode": {
    "name": "ipython",
    "version": 3
   },
   "file_extension": ".py",
   "mimetype": "text/x-python",
   "name": "python",
   "nbconvert_exporter": "python",
   "pygments_lexer": "ipython3",
   "version": "3.7.3"
  }
 },
 "nbformat": 4,
 "nbformat_minor": 5
}
