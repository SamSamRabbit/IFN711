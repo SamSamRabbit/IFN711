{
 "cells": [
  {
   "cell_type": "code",
   "execution_count": 1,
   "id": "659df208",
   "metadata": {},
   "outputs": [],
   "source": [
    "import cleverhans\n",
    "import tensorflow as tf\n",
    "import pandas as pd\n",
    "import numpy as np\n",
    "import matplotlib.pyplot as plt\n",
    "from sklearn.preprocessing import LabelEncoder, StandardScaler\n",
    "from sklearn.model_selection import train_test_split\n",
    "from sklearn import preprocessing\n",
    "from keras.utils import np_utils\n",
    "from sklearn.metrics import confusion_matrix"
   ]
  },
  {
   "cell_type": "code",
   "execution_count": 2,
   "id": "b2a9aec2",
   "metadata": {},
   "outputs": [
    {
     "name": "stderr",
     "output_type": "stream",
     "text": [
      "C:\\Users\\sumsu\\Anaconda3\\lib\\site-packages\\ipykernel_launcher.py:11: SettingWithCopyWarning: \n",
      "A value is trying to be set on a copy of a slice from a DataFrame.\n",
      "Try using .loc[row_indexer,col_indexer] = value instead\n",
      "\n",
      "See the caveats in the documentation: https://pandas.pydata.org/pandas-docs/stable/user_guide/indexing.html#returning-a-view-versus-a-copy\n",
      "  # This is added back by InteractiveShellApp.init_path()\n",
      "C:\\Users\\sumsu\\Anaconda3\\lib\\site-packages\\ipykernel_launcher.py:12: SettingWithCopyWarning: \n",
      "A value is trying to be set on a copy of a slice from a DataFrame.\n",
      "Try using .loc[row_indexer,col_indexer] = value instead\n",
      "\n",
      "See the caveats in the documentation: https://pandas.pydata.org/pandas-docs/stable/user_guide/indexing.html#returning-a-view-versus-a-copy\n",
      "  if sys.path[0] == '':\n"
     ]
    }
   ],
   "source": [
    "# new Data preparation\n",
    "\n",
    "# Training Dataset\n",
    "data = pd.read_csv(\"./dataset/UNSW_2018_IoT_Botnet_Final_10_best_Training.csv\")\n",
    "\n",
    "x_features = data[['seq','stddev','N_IN_Conn_P_SrcIP', 'min', 'state_number', 'mean', 'N_IN_Conn_P_DstIP',\n",
    "       'drate', 'srate', 'max', 'category', 'subcategory']]\n",
    "\n",
    "# Label Encoding the target columns\n",
    "le = LabelEncoder()\n",
    "x_features['category'] = le.fit_transform(x_features['category'])\n",
    "x_features['subcategory'] = le.fit_transform(x_features['subcategory'])\n",
    "\n",
    "x = x_features.values\n",
    "x = preprocessing.scale(x)\n",
    "y = data['attack'].values\n",
    "\n",
    "X_train, X_test, y_train, y_test = train_test_split(x, y, test_size=0.2)\n",
    "\n",
    "y_train_cat = np_utils.to_categorical(y_train)\n",
    "y_test_cat = np_utils.to_categorical(y_test)"
   ]
  },
  {
   "cell_type": "code",
   "execution_count": 3,
   "id": "52f9dfe8",
   "metadata": {},
   "outputs": [],
   "source": [
    "model = tf.keras.Sequential([\n",
    "        tf.keras.layers.Dense(200, input_dim=x.shape[1], activation=tf.nn.relu),\n",
    "        tf.keras.layers.Dense(500, activation=tf.nn.relu),\n",
    "        tf.keras.layers.Dense(200, activation=tf.nn.relu),\n",
    "        tf.keras.layers.Dense(len(np.unique(y))),\n",
    "        # We seperate the activation layer to be able to access\n",
    "        # the logits of the previous layer later\n",
    "        tf.keras.layers.Activation(tf.nn.softmax)\n",
    "        ])\n",
    "\n",
    "model.compile(optimizer='adam',\n",
    "              loss= 'categorical_crossentropy',\n",
    "              metrics=['accuracy'])"
   ]
  },
  {
   "cell_type": "code",
   "execution_count": 4,
   "id": "a55e2faf",
   "metadata": {},
   "outputs": [
    {
     "name": "stdout",
     "output_type": "stream",
     "text": [
      "Epoch 1/10\n",
      "58697/58697 [==============================] - 264s 4ms/step - loss: 0.0024 - accuracy: 0.9999 - val_loss: 7.7015e-04 - val_accuracy: 0.9999\n",
      "Epoch 2/10\n",
      "58697/58697 [==============================] - 240s 4ms/step - loss: 0.0010 - accuracy: 1.0000 - val_loss: 2.5392e-04 - val_accuracy: 1.0000\n",
      "Epoch 3/10\n",
      "58697/58697 [==============================] - 240s 4ms/step - loss: 4.8794e-04 - accuracy: 1.0000 - val_loss: 3.5963e-05 - val_accuracy: 1.0000\n",
      "Epoch 4/10\n",
      "58697/58697 [==============================] - 241s 4ms/step - loss: 7.5967e-04 - accuracy: 1.0000 - val_loss: 0.0010 - val_accuracy: 1.0000\n",
      "Epoch 5/10\n",
      "58697/58697 [==============================] - 242s 4ms/step - loss: 4.9258e-04 - accuracy: 1.0000 - val_loss: 5.3667e-10 - val_accuracy: 1.0000\n",
      "Epoch 6/10\n",
      "58697/58697 [==============================] - 243s 4ms/step - loss: 0.0016 - accuracy: 1.0000 - val_loss: 1.0941e-05 - val_accuracy: 1.0000\n",
      "Epoch 7/10\n",
      "58697/58697 [==============================] - 237s 4ms/step - loss: 0.0012 - accuracy: 1.0000 - val_loss: 1.7801e-05 - val_accuracy: 1.0000\n",
      "Epoch 8/10\n",
      "58697/58697 [==============================] - 223s 4ms/step - loss: 1.5295e-04 - accuracy: 1.0000 - val_loss: 1.7240e-04 - val_accuracy: 1.0000\n",
      "Epoch 9/10\n",
      "58697/58697 [==============================] - 225s 4ms/step - loss: 4.2320e-04 - accuracy: 1.0000 - val_loss: 7.0030e-04 - val_accuracy: 1.0000\n",
      "Epoch 10/10\n",
      "58697/58697 [==============================] - 211s 4ms/step - loss: 5.1345e-04 - accuracy: 1.0000 - val_loss: 0.0016 - val_accuracy: 1.0000\n"
     ]
    },
    {
     "data": {
      "text/plain": [
       "<keras.callbacks.History at 0x1e5167bc978>"
      ]
     },
     "execution_count": 4,
     "metadata": {},
     "output_type": "execute_result"
    }
   ],
   "source": [
    "y_train_cat = np_utils.to_categorical(y_train)\n",
    "y_test_cat = np_utils.to_categorical(y_test)\n",
    "\n",
    "model.fit(X_train, y_train_cat, epochs=10, validation_split=0.2)"
   ]
  },
  {
   "cell_type": "code",
   "execution_count": 5,
   "id": "aa557fcf",
   "metadata": {},
   "outputs": [
    {
     "name": "stdout",
     "output_type": "stream",
     "text": [
      "18343/18343 [==============================] - 32s 2ms/step - loss: 7.0514e-04 - accuracy: 1.0000\n",
      "Test accuracy: 0.9999914765357971\n"
     ]
    }
   ],
   "source": [
    "test_loss, test_acc = model.evaluate(X_test, y_test_cat)\n",
    "\n",
    "print('Test accuracy:', test_acc)"
   ]
  },
  {
   "cell_type": "code",
   "execution_count": 6,
   "id": "29ecf6dd",
   "metadata": {},
   "outputs": [
    {
     "name": "stdout",
     "output_type": "stream",
     "text": [
      "18343/18343 [==============================] - 24s 1ms/step\n",
      "**************************************************\n",
      "Original confusion matrix\n",
      "[[    62      5]\n",
      " [     0 586897]]\n"
     ]
    }
   ],
   "source": [
    "y_pred = model.predict(X_test)\n",
    "y_pred=np.argmax(y_pred, axis=1)\n",
    "cm_org = confusion_matrix(y_test, y_pred)\n",
    "print(\"*\"*50)\n",
    "print(\"Original confusion matrix\")\n",
    "print(cm_org)"
   ]
  },
  {
   "cell_type": "code",
   "execution_count": 7,
   "id": "8a4efe1a",
   "metadata": {},
   "outputs": [],
   "source": [
    "# Import the attack\n",
    "from cleverhans.future.tf2.attacks import fast_gradient_method\n",
    "\n",
    "#The attack requires the model to ouput the logits\n",
    "logits_model = tf.keras.Model(model.input, model.layers[-1].output)\n",
    "\n",
    "epsilon = 0.1\n",
    "adv_fgsm_x = fast_gradient_method(logits_model,\n",
    "                                  X_test,\n",
    "                                  epsilon,\n",
    "                                  np.inf,\n",
    "                                  targeted=False)"
   ]
  },
  {
   "cell_type": "code",
   "execution_count": 8,
   "id": "7bcc8d7f",
   "metadata": {},
   "outputs": [
    {
     "name": "stdout",
     "output_type": "stream",
     "text": [
      "18343/18343 [==============================] - 15s 788us/step\n",
      "********************\n",
      "Attacked confusion matrix\n",
      "[[    53     14]\n",
      " [     0 586897]]\n"
     ]
    }
   ],
   "source": [
    "y_pred = model.predict(adv_fgsm_x)\n",
    "y_pred=np.argmax(y_pred, axis=1)\n",
    "cm_adv = confusion_matrix(y_test, y_pred)\n",
    "print(\"*\"*20)\n",
    "print(\"Attacked confusion matrix\")\n",
    "print(cm_adv)"
   ]
  },
  {
   "cell_type": "code",
   "execution_count": 9,
   "id": "5fa2ceb9",
   "metadata": {},
   "outputs": [
    {
     "name": "stdout",
     "output_type": "stream",
     "text": [
      "tf.Tensor(\n",
      "[[-1.2842484  -1.10368447 -0.7195503  ... -1.6224652   0.75246724\n",
      "  -0.86685956]\n",
      " [ 0.70762393 -0.9182629  -2.27755391 ... -1.45260141 -0.83068184\n",
      "  -0.86685956]\n",
      " [-1.51456499 -1.10368447 -1.62155239 ... -1.6224652   3.91876542\n",
      "  -2.57865064]\n",
      " ...\n",
      " [-0.57398133  1.2822774   0.71545303 ...  0.5904311  -0.83068184\n",
      "  -0.86685956]\n",
      " [ 1.74030783 -0.95340555  0.71545303 ...  0.4423308   0.75246724\n",
      "   0.84493152]\n",
      " [-1.33167079 -1.09202003 -2.48255439 ... -1.61239112 -0.83068184\n",
      "  -0.86685956]], shape=(586964, 12), dtype=float64)\n"
     ]
    }
   ],
   "source": [
    "print(adv_fgsm_x)"
   ]
  },
  {
   "cell_type": "code",
   "execution_count": null,
   "id": "6c65c59f",
   "metadata": {},
   "outputs": [],
   "source": []
  }
 ],
 "metadata": {
  "kernelspec": {
   "display_name": "Python 3 (ipykernel)",
   "language": "python",
   "name": "python3"
  },
  "language_info": {
   "codemirror_mode": {
    "name": "ipython",
    "version": 3
   },
   "file_extension": ".py",
   "mimetype": "text/x-python",
   "name": "python",
   "nbconvert_exporter": "python",
   "pygments_lexer": "ipython3",
   "version": "3.7.3"
  }
 },
 "nbformat": 4,
 "nbformat_minor": 5
}
