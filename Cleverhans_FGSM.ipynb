{
 "cells": [
  {
   "cell_type": "code",
   "execution_count": 1,
   "id": "47f1a989",
   "metadata": {},
   "outputs": [],
   "source": [
    "# https://towardsdatascience.com/adversarial-machine-learning-mitigation-adversarial-learning-9ae04133c137\n",
    "import cleverhans\n",
    "import tensorflow as tf\n",
    "import pandas as pd\n",
    "import numpy as np\n",
    "import matplotlib.pyplot as plt\n",
    "from sklearn.preprocessing import LabelEncoder, StandardScaler\n",
    "from sklearn.model_selection import train_test_split\n",
    "from sklearn import preprocessing\n",
    "from sklearn.metrics import confusion_matrix\n",
    "from keras.utils import np_utils\n",
    "from cleverhans.future.tf2.attacks import fast_gradient_method"
   ]
  },
  {
   "cell_type": "code",
   "execution_count": 2,
   "id": "f135d904",
   "metadata": {},
   "outputs": [
    {
     "name": "stderr",
     "output_type": "stream",
     "text": [
      "C:\\Users\\sumsu\\Anaconda3\\lib\\site-packages\\ipykernel_launcher.py:11: SettingWithCopyWarning: \n",
      "A value is trying to be set on a copy of a slice from a DataFrame.\n",
      "Try using .loc[row_indexer,col_indexer] = value instead\n",
      "\n",
      "See the caveats in the documentation: https://pandas.pydata.org/pandas-docs/stable/user_guide/indexing.html#returning-a-view-versus-a-copy\n",
      "  # This is added back by InteractiveShellApp.init_path()\n",
      "C:\\Users\\sumsu\\Anaconda3\\lib\\site-packages\\ipykernel_launcher.py:12: SettingWithCopyWarning: \n",
      "A value is trying to be set on a copy of a slice from a DataFrame.\n",
      "Try using .loc[row_indexer,col_indexer] = value instead\n",
      "\n",
      "See the caveats in the documentation: https://pandas.pydata.org/pandas-docs/stable/user_guide/indexing.html#returning-a-view-versus-a-copy\n",
      "  if sys.path[0] == '':\n"
     ]
    }
   ],
   "source": [
    "# new Data preparation\n",
    "\n",
    "# Training Dataset\n",
    "data = pd.read_csv(\"./dataset/UNSW_2018_IoT_Botnet_Final_10_best_Training.csv\")\n",
    "\n",
    "x_features = data[['seq','stddev','N_IN_Conn_P_SrcIP', 'min', 'state_number', 'mean', 'N_IN_Conn_P_DstIP',\n",
    "       'drate', 'srate', 'max', 'category', 'subcategory']]\n",
    "\n",
    "# Label Encoding the target columns\n",
    "le = LabelEncoder()\n",
    "x_features['category'] = le.fit_transform(x_features['category'])\n",
    "x_features['subcategory'] = le.fit_transform(x_features['subcategory'])\n",
    "\n",
    "x = x_features.values\n",
    "x = preprocessing.scale(x)\n",
    "y = data['attack'].values\n",
    "\n",
    "X_train, X_test, y_train, y_test = train_test_split(x, y, test_size=0.2)\n",
    "\n",
    "y_train_cat = np_utils.to_categorical(y_train)\n",
    "y_test_cat = np_utils.to_categorical(y_test)"
   ]
  },
  {
   "cell_type": "code",
   "execution_count": 3,
   "id": "1185e056",
   "metadata": {},
   "outputs": [],
   "source": [
    "model = tf.keras.Sequential([\n",
    "        tf.keras.layers.Dense(200, input_dim=x.shape[1], activation=tf.nn.relu),\n",
    "        tf.keras.layers.Dense(500, activation=tf.nn.relu),\n",
    "        tf.keras.layers.Dense(200, activation=tf.nn.relu),\n",
    "        tf.keras.layers.Dense(len(np.unique(y))),\n",
    "        # We seperate the activation layer to be able to access\n",
    "        # the logits of the previous layer later\n",
    "        tf.keras.layers.Activation(tf.nn.softmax)\n",
    "        ])\n",
    "\n",
    "model.compile(optimizer='adam',\n",
    "              loss= 'categorical_crossentropy',\n",
    "              metrics=['accuracy'])"
   ]
  },
  {
   "cell_type": "code",
   "execution_count": 4,
   "id": "85019a35",
   "metadata": {},
   "outputs": [
    {
     "name": "stdout",
     "output_type": "stream",
     "text": [
      "Epoch 1/10\n",
      "58697/58697 [==============================] - 492s 8ms/step - loss: 0.0039 - accuracy: 0.9999 - val_loss: 2.6019e-04 - val_accuracy: 1.0000\n",
      "Epoch 2/10\n",
      "58697/58697 [==============================] - 413s 7ms/step - loss: 0.0025 - accuracy: 1.0000 - val_loss: 3.3653e-05 - val_accuracy: 1.0000\n",
      "Epoch 3/10\n",
      "58697/58697 [==============================] - 386s 7ms/step - loss: 4.8151e-04 - accuracy: 1.0000 - val_loss: 7.6270e-05 - val_accuracy: 1.0000\n",
      "Epoch 4/10\n",
      "58697/58697 [==============================] - 389s 7ms/step - loss: 4.8743e-04 - accuracy: 1.0000 - val_loss: 7.4880e-07 - val_accuracy: 1.0000\n",
      "Epoch 5/10\n",
      "58697/58697 [==============================] - 412s 7ms/step - loss: 0.0011 - accuracy: 1.0000 - val_loss: 3.0771e-07 - val_accuracy: 1.0000\n",
      "Epoch 6/10\n",
      "58697/58697 [==============================] - 320s 5ms/step - loss: 3.6863e-04 - accuracy: 1.0000 - val_loss: 2.7552e-06 - val_accuracy: 1.0000\n",
      "Epoch 7/10\n",
      "58697/58697 [==============================] - 188s 3ms/step - loss: 1.4845e-04 - accuracy: 1.0000 - val_loss: 3.1929e-06 - val_accuracy: 1.0000\n",
      "Epoch 8/10\n",
      "58697/58697 [==============================] - 166s 3ms/step - loss: 1.5211e-04 - accuracy: 1.0000 - val_loss: 1.1672e-05 - val_accuracy: 1.0000\n",
      "Epoch 9/10\n",
      "58697/58697 [==============================] - 167s 3ms/step - loss: 1.5963e-04 - accuracy: 1.0000 - val_loss: 3.7393e-06 - val_accuracy: 1.0000\n",
      "Epoch 10/10\n",
      "58697/58697 [==============================] - 167s 3ms/step - loss: 2.9090e-04 - accuracy: 1.0000 - val_loss: 5.2805e-11 - val_accuracy: 1.0000\n",
      "18343/18343 [==============================] - 27s 1ms/step - loss: 3.0078e-05 - accuracy: 1.0000\n",
      "Test accuracy: 0.9999966025352478\n"
     ]
    }
   ],
   "source": [
    "model.fit(X_train, y_train_cat, epochs=10, validation_split=0.2)\n",
    "test_loss, test_acc = model.evaluate(X_test, y_test_cat)\n",
    "print('Test accuracy:', test_acc)"
   ]
  },
  {
   "cell_type": "code",
   "execution_count": 5,
   "id": "34316ace",
   "metadata": {},
   "outputs": [
    {
     "name": "stdout",
     "output_type": "stream",
     "text": [
      "18343/18343 [==============================] - 21s 1ms/step\n",
      "**************************************************\n",
      "Original confusion matrix\n",
      "[[    66      0]\n",
      " [     2 586896]]\n"
     ]
    }
   ],
   "source": [
    "y_pred = model.predict(X_test)\n",
    "y_pred=np.argmax(y_pred, axis=1)\n",
    "cm_org = confusion_matrix(y_test, y_pred)\n",
    "print(\"*\"*50)\n",
    "print(\"Original confusion matrix\")\n",
    "print(cm_org)"
   ]
  },
  {
   "cell_type": "code",
   "execution_count": 6,
   "id": "228f2e18",
   "metadata": {},
   "outputs": [],
   "source": [
    "# Import the attack\n",
    "#The attack requires the model to ouput the logits\n",
    "logits_model = tf.keras.Model(model.input, model.layers[-1].output)\n",
    "\n",
    "epsilon = 0.1\n",
    "adv_fgsm_x = fast_gradient_method(logits_model,\n",
    "                                  X_test,\n",
    "                                  epsilon,\n",
    "                                  np.inf,\n",
    "                                  targeted=False)"
   ]
  },
  {
   "cell_type": "code",
   "execution_count": 7,
   "id": "513987e4",
   "metadata": {},
   "outputs": [
    {
     "name": "stdout",
     "output_type": "stream",
     "text": [
      "18343/18343 [==============================] - 25s 1ms/step\n",
      "********************\n",
      "Attacked confusion matrix\n",
      "[[    66      0]\n",
      " [     2 586896]]\n"
     ]
    }
   ],
   "source": [
    "y_pred = model.predict(adv_fgsm_x)\n",
    "y_pred=np.argmax(y_pred, axis=1)\n",
    "cm_adv = confusion_matrix(y_test, y_pred)\n",
    "print(\"*\"*20)\n",
    "print(\"Attacked confusion matrix\")\n",
    "print(cm_adv)"
   ]
  },
  {
   "cell_type": "code",
   "execution_count": 8,
   "id": "b2035235",
   "metadata": {},
   "outputs": [
    {
     "name": "stdout",
     "output_type": "stream",
     "text": [
      "tf.Tensor(\n",
      "[[ 0.23291182  1.25152354  0.71545303 ...  0.74496694 -0.83068184\n",
      "  -0.86685956]\n",
      " [-0.88787428 -0.70547208  0.71545303 ...  0.50834781  0.75246724\n",
      "   0.84493152]\n",
      " [-0.35340257  0.60108472 -2.15455363 ...  1.00122964 -0.83068184\n",
      "   0.84493152]\n",
      " ...\n",
      " [ 1.02034253  0.86647627 -1.00655096 ...  0.40499218  0.75246724\n",
      "   0.84493152]\n",
      " [-1.41646107  0.44483421  0.71545303 ... -0.15993703  0.75246724\n",
      "   0.84493152]\n",
      " [-0.27933972  1.22739828  0.71545303 ...  1.03711469  0.75246724\n",
      "   0.84493152]], shape=(586964, 12), dtype=float64)\n"
     ]
    }
   ],
   "source": [
    "print(adv_fgsm_x)"
   ]
  },
  {
   "cell_type": "code",
   "execution_count": null,
   "id": "38244299",
   "metadata": {},
   "outputs": [],
   "source": []
  }
 ],
 "metadata": {
  "kernelspec": {
   "display_name": "Python 3 (ipykernel)",
   "language": "python",
   "name": "python3"
  },
  "language_info": {
   "codemirror_mode": {
    "name": "ipython",
    "version": 3
   },
   "file_extension": ".py",
   "mimetype": "text/x-python",
   "name": "python",
   "nbconvert_exporter": "python",
   "pygments_lexer": "ipython3",
   "version": "3.7.3"
  }
 },
 "nbformat": 4,
 "nbformat_minor": 5
}
