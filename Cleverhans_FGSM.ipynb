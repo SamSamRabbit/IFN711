{
 "cells": [
  {
   "cell_type": "code",
   "execution_count": 1,
   "id": "47f1a989",
   "metadata": {},
   "outputs": [],
   "source": [
    "# https://towardsdatascience.com/adversarial-machine-learning-mitigation-adversarial-learning-9ae04133c137\n",
    "import cleverhans\n",
    "import tensorflow as tf\n",
    "import pandas as pd\n",
    "import numpy as np\n",
    "import matplotlib.pyplot as plt\n",
    "from sklearn.preprocessing import LabelEncoder, StandardScaler\n",
    "from sklearn.model_selection import train_test_split\n",
    "from sklearn import preprocessing\n",
    "from sklearn.metrics import confusion_matrix\n",
    "from keras.utils import np_utils\n",
    "from cleverhans.future.tf2.attacks import fast_gradient_method"
   ]
  },
  {
   "cell_type": "code",
   "execution_count": 2,
   "id": "f135d904",
   "metadata": {},
   "outputs": [
    {
     "name": "stderr",
     "output_type": "stream",
     "text": [
      "C:\\Users\\sumsu\\Anaconda3\\lib\\site-packages\\ipykernel_launcher.py:11: SettingWithCopyWarning: \n",
      "A value is trying to be set on a copy of a slice from a DataFrame.\n",
      "Try using .loc[row_indexer,col_indexer] = value instead\n",
      "\n",
      "See the caveats in the documentation: https://pandas.pydata.org/pandas-docs/stable/user_guide/indexing.html#returning-a-view-versus-a-copy\n",
      "  # This is added back by InteractiveShellApp.init_path()\n",
      "C:\\Users\\sumsu\\Anaconda3\\lib\\site-packages\\ipykernel_launcher.py:12: SettingWithCopyWarning: \n",
      "A value is trying to be set on a copy of a slice from a DataFrame.\n",
      "Try using .loc[row_indexer,col_indexer] = value instead\n",
      "\n",
      "See the caveats in the documentation: https://pandas.pydata.org/pandas-docs/stable/user_guide/indexing.html#returning-a-view-versus-a-copy\n",
      "  if sys.path[0] == '':\n"
     ]
    }
   ],
   "source": [
    "# new Data preparation\n",
    "\n",
    "# Training Dataset\n",
    "data = pd.read_csv(\"./dataset/UNSW_2018_IoT_Botnet_Final_10_best_Training.csv\")\n",
    "\n",
    "x_features = data[['seq','stddev','N_IN_Conn_P_SrcIP', 'min', 'state_number', 'mean', 'N_IN_Conn_P_DstIP',\n",
    "       'drate', 'srate', 'max', 'category', 'subcategory']]\n",
    "\n",
    "# Label Encoding the target columns\n",
    "le = LabelEncoder()\n",
    "x_features['category'] = le.fit_transform(x_features['category'])\n",
    "x_features['subcategory'] = le.fit_transform(x_features['subcategory'])\n",
    "\n",
    "x = x_features.values\n",
    "x = preprocessing.scale(x)\n",
    "y = data['attack'].values\n",
    "\n",
    "X_train, X_test, y_train, y_test = train_test_split(x, y, test_size=0.2)\n",
    "\n",
    "y_train_cat = np_utils.to_categorical(y_train)\n",
    "y_test_cat = np_utils.to_categorical(y_test)"
   ]
  },
  {
   "cell_type": "code",
   "execution_count": 3,
   "id": "1185e056",
   "metadata": {},
   "outputs": [],
   "source": [
    "model = tf.keras.Sequential([\n",
    "        tf.keras.layers.Dense(200, input_dim=x.shape[1], activation=tf.nn.relu),\n",
    "        tf.keras.layers.Dense(500, activation=tf.nn.relu),\n",
    "        tf.keras.layers.Dense(200, activation=tf.nn.relu),\n",
    "        tf.keras.layers.Dense(len(np.unique(y))),\n",
    "        # We seperate the activation layer to be able to access\n",
    "        # the logits of the previous layer later\n",
    "        tf.keras.layers.Activation(tf.nn.softmax)\n",
    "        ])\n",
    "\n",
    "model.compile(optimizer='adam',\n",
    "              loss= 'categorical_crossentropy',\n",
    "              metrics=['accuracy'])"
   ]
  },
  {
   "cell_type": "code",
   "execution_count": 4,
   "id": "85019a35",
   "metadata": {},
   "outputs": [
    {
     "name": "stdout",
     "output_type": "stream",
     "text": [
      "Epoch 1/10\n",
      "58697/58697 [==============================] - 248s 4ms/step - loss: 0.0015 - accuracy: 0.9999 - val_loss: 9.0154e-04 - val_accuracy: 1.0000\n",
      "Epoch 2/10\n",
      "58697/58697 [==============================] - 240s 4ms/step - loss: 6.8380e-04 - accuracy: 1.0000 - val_loss: 0.0021 - val_accuracy: 1.0000\n",
      "Epoch 3/10\n",
      "58697/58697 [==============================] - 240s 4ms/step - loss: 0.0011 - accuracy: 1.0000 - val_loss: 0.0014 - val_accuracy: 1.0000\n",
      "Epoch 4/10\n",
      "58697/58697 [==============================] - 241s 4ms/step - loss: 8.8946e-04 - accuracy: 1.0000 - val_loss: 3.2978e-05 - val_accuracy: 1.0000\n",
      "Epoch 5/10\n",
      "58697/58697 [==============================] - 243s 4ms/step - loss: 2.3500e-04 - accuracy: 1.0000 - val_loss: 0.0051 - val_accuracy: 1.0000\n",
      "Epoch 6/10\n",
      "58697/58697 [==============================] - 245s 4ms/step - loss: 4.2426e-04 - accuracy: 1.0000 - val_loss: 0.0014 - val_accuracy: 1.0000\n",
      "Epoch 7/10\n",
      "58697/58697 [==============================] - 245s 4ms/step - loss: 6.0066e-04 - accuracy: 1.0000 - val_loss: 2.5931e-06 - val_accuracy: 1.0000\n",
      "Epoch 8/10\n",
      "58697/58697 [==============================] - 224s 4ms/step - loss: 0.0010 - accuracy: 1.0000 - val_loss: 5.4429e-06 - val_accuracy: 1.0000\n",
      "Epoch 9/10\n",
      "58697/58697 [==============================] - 225s 4ms/step - loss: 1.3265e-04 - accuracy: 1.0000 - val_loss: 4.3828e-06 - val_accuracy: 1.0000\n",
      "Epoch 10/10\n",
      "58697/58697 [==============================] - 228s 4ms/step - loss: 5.3758e-05 - accuracy: 1.0000 - val_loss: 1.0458e-05 - val_accuracy: 1.0000\n",
      "18343/18343 [==============================] - 33s 2ms/step - loss: 1.0071e-05 - accuracy: 1.0000\n",
      "Test accuracy: 0.9999932050704956\n"
     ]
    }
   ],
   "source": [
    "model.fit(X_train, y_train_cat, epochs=10, validation_split=0.2)\n",
    "test_loss, test_acc = model.evaluate(X_test, y_test_cat)\n",
    "print('Test accuracy:', test_acc)"
   ]
  },
  {
   "cell_type": "code",
   "execution_count": 5,
   "id": "34316ace",
   "metadata": {},
   "outputs": [
    {
     "name": "stdout",
     "output_type": "stream",
     "text": [
      "18343/18343 [==============================] - 24s 1ms/step\n",
      "**************************************************\n",
      "Original confusion matrix\n",
      "[[    78      0]\n",
      " [     4 586882]]\n"
     ]
    }
   ],
   "source": [
    "y_pred = model.predict(X_test)\n",
    "y_pred=np.argmax(y_pred, axis=1)\n",
    "cm_org = confusion_matrix(y_test, y_pred)\n",
    "print(\"*\"*50)\n",
    "print(\"Original confusion matrix\")\n",
    "print(cm_org)"
   ]
  },
  {
   "cell_type": "code",
   "execution_count": 6,
   "id": "228f2e18",
   "metadata": {},
   "outputs": [],
   "source": [
    "# Import the attack\n",
    "#The attack requires the model to ouput the logits\n",
    "logits_model = tf.keras.Model(model.input, model.layers[-1].output)\n",
    "\n",
    "epsilon = 0.1\n",
    "adv_fgsm_x = fast_gradient_method(logits_model,\n",
    "                                  X_test,\n",
    "                                  epsilon,\n",
    "                                  np.inf,\n",
    "                                  targeted=False)"
   ]
  },
  {
   "cell_type": "code",
   "execution_count": 7,
   "id": "513987e4",
   "metadata": {},
   "outputs": [
    {
     "name": "stdout",
     "output_type": "stream",
     "text": [
      "18343/18343 [==============================] - 24s 1ms/step\n",
      "********************\n",
      "Attacked confusion matrix\n",
      "[[    78      0]\n",
      " [     5 586881]]\n"
     ]
    }
   ],
   "source": [
    "y_pred = model.predict(adv_fgsm_x)\n",
    "y_pred=np.argmax(y_pred, axis=1)\n",
    "cm_adv = confusion_matrix(y_test, y_pred)\n",
    "print(\"*\"*20)\n",
    "print(\"Attacked confusion matrix\")\n",
    "print(cm_adv)"
   ]
  },
  {
   "cell_type": "code",
   "execution_count": 8,
   "id": "b2035235",
   "metadata": {},
   "outputs": [
    {
     "name": "stdout",
     "output_type": "stream",
     "text": [
      "tf.Tensor(\n",
      "[[ 0.93217436  0.68358818  0.71545303 ...  0.18634968  0.75246724\n",
      "   0.84493152]\n",
      " [ 1.19786642 -0.29750283 -0.06354877 ...  0.86415027  0.75246724\n",
      "   0.84493152]\n",
      " [-0.61596743 -0.69937109 -0.18654906 ...  0.60261328 -0.83068184\n",
      "   0.84493152]\n",
      " ...\n",
      " [-1.30185037  0.78048368  0.71545303 ...  0.2139157  -0.83068184\n",
      "  -0.86685956]\n",
      " [ 1.62724093  1.26222984  0.71545303 ...  0.54672893 -0.83068184\n",
      "   0.84493152]\n",
      " [-0.56280527 -1.10368447  0.71545303 ... -1.6224652   0.75246724\n",
      "  -0.86685956]], shape=(586964, 12), dtype=float64)\n"
     ]
    }
   ],
   "source": [
    "print(adv_fgsm_x)"
   ]
  },
  {
   "cell_type": "code",
   "execution_count": null,
   "id": "38244299",
   "metadata": {},
   "outputs": [],
   "source": []
  }
 ],
 "metadata": {
  "kernelspec": {
   "display_name": "Python 3 (ipykernel)",
   "language": "python",
   "name": "python3"
  },
  "language_info": {
   "codemirror_mode": {
    "name": "ipython",
    "version": 3
   },
   "file_extension": ".py",
   "mimetype": "text/x-python",
   "name": "python",
   "nbconvert_exporter": "python",
   "pygments_lexer": "ipython3",
   "version": "3.7.3"
  }
 },
 "nbformat": 4,
 "nbformat_minor": 5
}
